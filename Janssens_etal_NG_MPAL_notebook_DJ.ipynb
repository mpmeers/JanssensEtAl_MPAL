{
 "cells": [
  {
   "cell_type": "markdown",
   "metadata": {},
   "source": [
    "## Correlation Matrixes (Extended Data Fig. 1a, 4c)"
   ]
  },
  {
   "cell_type": "code",
   "execution_count": null,
   "metadata": {},
   "outputs": [],
   "source": [
    "import seaborn as sns\n",
    "from pybedtools import BedTool\n",
    "import numpy as np\n",
    "import pandas as pd\n",
    "import scipy.stats as sts"
   ]
  },
  {
   "cell_type": "code",
   "execution_count": null,
   "metadata": {},
   "outputs": [],
   "source": [
    "def getCoverage(bed, peakfile):\n",
    "    '''\n",
    "    Takes in bedfile and peakfile and computes number of reads in the bed file that overlap with a\n",
    "    peak file. \n",
    "    \n",
    "    Args:\n",
    "        bed (str): path to fragment file\n",
    "        peakfile (str): path to peak file\n",
    "        \n",
    "    Returns:    \n",
    "        norm_counts (np.array): an array of normalized counts\n",
    "        \n",
    "    '''\n",
    "    \n",
    "    frag = BedTool(bed) \n",
    "    peaks = BedTool(peakfile)\n",
    "    inter = peaks.coverage(frag, counts=True)\n",
    "    \n",
    "    norm_counts = np.zeros(peaks.count())\n",
    "    for k, interval in enumerate(inter):\n",
    "        rd = interval.fields\n",
    "        norm_counts[k] = rd[-1]\n",
    "    \n",
    "    # normalizes by total fragment counts per million\n",
    "    norm_counts /= frag.count()\n",
    "    norm_counts *= 1000000\n",
    "    # logs-scale data\n",
    "    norm_counts = np.log(norm_counts + 1)\n",
    "    return norm_counts"
   ]
  },
  {
   "cell_type": "code",
   "execution_count": null,
   "metadata": {},
   "outputs": [],
   "source": [
    "# path to list of bed files\n",
    "beds_K562 = [\"../cutandtag_data/bed_files_for_kmt2a_manuscript/cell_line_hm_bedfiles/DJ_Hs_IgG_K5_1r.bed\",\n",
    "        \"../cutandtag_data/bed_files_for_kmt2a_manuscript/cell_line_hm_bedfiles/DJ_Hs_K4m1_K5_0310.bed\",\n",
    "       \"../cutandtag_data/bed_files_for_kmt2a_manuscript/cell_line_hm_bedfiles/DJ_Hs_K4m3_K5_0310.bed\",\n",
    "       \"../cutandtag_data/bed_files_for_kmt2a_manuscript/cell_line_hm_bedfiles/DJ_Hs_K9m3_K5_0310.bed\",\n",
    "       \"../cutandtag_data/bed_files_for_kmt2a_manuscript/cell_line_hm_bedfiles/DJ_Hs_K27m_K5_0310.bed\",\n",
    "       \"../cutandtag_data/bed_files_for_kmt2a_manuscript/cell_line_hm_bedfiles/DJ_Hs_K36m3_K5_0310.bed\",\n",
    "        \"../cutandtag_data/bed_files_for_kmt2a_manuscript/cell_line_hm_bedfiles/SH_Hs_K562_K27me3_0416.bed\",\n",
    "        \"../cutandtag_data/bed_files_for_kmt2a_manuscript/cell_line_hm_bedfiles/SH_Hs_K5x_H3K4me1_0505.bed\",\n",
    "        \"../cutandtag_data/bed_files_for_kmt2a_manuscript/cell_line_hm_bedfiles/SH_Hs_K5x_H3K4me3_0505.bed\",\n",
    "        \"../cutandtag_data/bed_files_for_kmt2a_manuscript/cell_line_hm_bedfiles/SH_Hs_K562_K9me3_0419.bed\",\n",
    "        \"../cutandtag_data/bed_files_for_kmt2a_manuscript/cell_line_hm_bedfiles/SH_Hs_K562_K36me3T_0419.bed\"]\n",
    "\n",
    "# path to peak or genome binds\n",
    "genomewindows = \"../hg19_5kb.bed\"\n",
    "\n",
    "# lists containing arrays of normalized counts for each bedfile in each fo the peaks/genome bins\n",
    "bin_coverage_K562 = []\n",
    "for bed in beds_K562:\n",
    "    # run function and add output to the list\n",
    "    bin_coverage_K562.append(getCoverage(bed, genomewindows))"
   ]
  },
  {
   "cell_type": "code",
   "execution_count": null,
   "metadata": {},
   "outputs": [],
   "source": [
    "# number of beds\n",
    "n_beds_K562 = 11\n",
    "\n",
    "# initalize numpy matrix to store pearson R values\n",
    "corr_K562 = np.zeros([n_beds_K562,n_beds_K562])\n",
    "for i in range(n_beds_K562):\n",
    "    for j in range(n_beds_K562):\n",
    "        # loop through and calculate pearsonR\n",
    "        corr_K562[i,j] = sts.pearsonr(bin_coverage_K562[i], bin_coverage_K562[j])[0]\n",
    "\n",
    "# data moved from numpy array to pandas for nicer plotting\n",
    "corr_K562 = pd.DataFrame(corr_K562, index=beds_K562, columns=beds_K562)\n",
    "\n",
    "\n",
    "# clustermap function\n",
    "sns.set(font_scale=2)\n",
    "sns.clustermap(corr_K562, cmap='cool', figsize=(30, 30), vmin=0.5, vmax=1)"
   ]
  },
  {
   "cell_type": "markdown",
   "metadata": {},
   "source": [
    "## Boxplot for Extended Data Fig. 1c"
   ]
  },
  {
   "cell_type": "code",
   "execution_count": null,
   "metadata": {},
   "outputs": [],
   "source": [
    "# Enter Data\n",
    "data = {'Sample-type':[ 'wildtype', 'wildtype', 'wildtype','wildtype','wildtype','wildtype','wildtype','wildtype','wildtype','wildtype','wildtype','wildtype','KMT2Ar','KMT2Ar','KMT2Ar','KMT2Ar','KMT2Ar','KMT2Ar','KMT2Ar','KMT2Ar','KMT2Ar','KMT2Ar','KMT2Ar','KMT2Ar','KMT2Ar','KMT2Ar','KMT2Ar','KMT2Ar','KMT2Ar','KMT2Ar','KMT2Ar','KMT2Ar','KMT2Ar','KMT2Ar','KMT2Ar','KMT2Ar','KMT2Ar','KMT2Ar','KMT2Ar','KMT2Ar','KMT2Ar','KMT2Ar','KMT2Ar','KMT2Ar','KMT2Ar','KMT2Ar','KMT2Ar','KMT2Ar','KMT2Ar','KMT2Ar','KMT2Ar','KMT2Ar','KMT2Ar','KMT2Ar','KMT2Ar','KMT2Ar','KMT2Ar','KMT2Ar','KMT2Ar','KMT2Ar','KMT2Ar','KMT2Ar'],\n",
    "        'R-value':[0.92, 0.88, 0.89, 0.87, 0.77, 0.78, 0.86, 0.85, 0.68, 0.67, 0.85, 0.85, 0.071, 0.079, 0.81, 0.8, 0.52, 0.54, 0.6, 0.68, 0.68, 0.6, 0.7, 0.6, 0.74, 0.71, 0.66, 0.59, 0.48, 0.4, 0.32, 0.15, 0.56, 0.6, -0.066, -0.021, 0.48, 0.35, 0.58, 0.57, 0.35, 0.46, 0.45, 0.48, 0.77, 0.79, 0.78, 0.78, 0.61, 0.66, 0.62, 0.64, 0.73, 0.74, 0.46, 0.59, 0.46, 0.59, 0.51, 0.49, 0.45, 0.52]}\n",
    "  \n",
    "# Create DataFrame\n",
    "NvsCerm_Rvalue = pd.DataFrame(data)\n",
    "  \n",
    "# Print the output.\n",
    "print (NvsCerm_Rvalue)"
   ]
  },
  {
   "cell_type": "code",
   "execution_count": null,
   "metadata": {},
   "outputs": [],
   "source": [
    "cat1 = NvsCerm_Rvalue[NvsCerm_Rvalue['Sample-type'].isin(['wildtype'])]\n",
    "cat2 = NvsCerm_Rvalue[NvsCerm_Rvalue['Sample-type'].isin(['KMT2Ar'])]\n",
    "\n",
    "\n",
    "ttest_ind(cat1['R-value'], cat2['R-value'])"
   ]
  },
  {
   "cell_type": "code",
   "execution_count": null,
   "metadata": {},
   "outputs": [],
   "source": [
    "box_colors = [\"grey\", \"grey\"]\n",
    "plt.figure(figsize=(15,15))\n",
    "NvsCerm_Rvalue_boxplot = sns.boxplot(data=NvsCerm_Rvalue, x='Sample-type', y='R-value', palette=(sns.xkcd_palette(box_colors)), linewidth=3, fliersize=0)\n",
    "NvsCerm_Rvalue_boxplot.set(ylim=(0, 1))\n",
    "plt.legend(bbox_to_anchor=(1.05, 1), loc=2, borderaxespad=0.)\n",
    "\n",
    "medians = NvsCerm_Rvalue.groupby(['Sample-type'])['R-value'].median()\n",
    "counts = NvsCerm_Rvalue.groupby(['Sample-type'])['R-value'].count()\n",
    "\n",
    "\n",
    "print(medians)\n",
    "print(counts)"
   ]
  },
  {
   "cell_type": "markdown",
   "metadata": {},
   "source": [
    "## Venn Diagram of SEM KMT2A-AF4 target gene overlaps Extended Data Fig. 2k"
   ]
  },
  {
   "cell_type": "code",
   "execution_count": null,
   "metadata": {},
   "outputs": [],
   "source": [
    "import numpy as np\n",
    "import pandas as pd\n",
    "from pybedtools import BedTool"
   ]
  },
  {
   "cell_type": "code",
   "execution_count": null,
   "metadata": {},
   "outputs": [],
   "source": [
    "#Generate a bed file of the genes called as KMT2A-AF4 targets in Guenther et al. 2008 \n",
    "guenther_kmt2afusion_targets = pd.read_csv(\"Desktop/GuentherSuppTableS06.csv\", sep=\",\", skiprows=[0,1,2,3], header=None)\n",
    "guenther_kmt2afusion_targets.columns = [\"chrom\",\"start\",\"stop\",\"interval\",\"peak\",\"phony\",\"phony\",\"phony\",\"phony\",\"phony\",\"phony\",\"phony\",\"phony\"]\n",
    "guenther_kmt2afusion_targets = guenther_kmt2afusion_targets.iloc[:,[0,1,2]]\n",
    "guenther_kmt2afusion_targets = guenther_kmt2afusion_targets.replace(',', '', regex=True)\n",
    "guenther_kmt2afusion_targets['chrom'] = 'chr' + guenther_kmt2afusion_targets['chrom'].astype(str)\n",
    "guenther_SEM_bed = BedTool.from_dataframe(guenther_kmt2afusion_targets)\n",
    "guenther_SEM_bed = BedTool.sort(guenther_SEM_bed).saveas('Desktop/guenther_SEM_hg18.bed')\n",
    "\n",
    "#Then use UCSC website to convert hg18 intervals to hg19 intervals\n"
   ]
  },
  {
   "cell_type": "code",
   "execution_count": null,
   "metadata": {},
   "outputs": [],
   "source": [
    "#Pull a Dataframe of Gene names and locations from UCSC hg19_ucscgenes.dms file\n",
    "hg19_gene_list = pd.read_csv(\"../../Documents/hg19_ucscgenes.dms\", sep=\"\\t\", skiprows=[0], header=None)\n",
    "hg19_gene_list.columns = [\"bin\",\"name\",\"chrom\",\"strand\",\"txStart\",\"txEnd\",\"cdsStart\",\"cdsEnd\",\"exonCount\",\"exonStarts\",\"exonEnds\",\"score\",\"name2\",\"cdsStartStat\",\"cdsEndStat\",\"exonFrames\"]\n",
    "\n",
    "#Convert the essential columns to a bed file\n",
    "hg19_gene_min = hg19_gene_list.iloc[:,[12, 2, 3, 4, 5]]\n",
    "hg19_gene_min_2 = hg19_gene_min.iloc[:,[1, 3, 4, 0]]\n",
    "hg19_gene_min_2_bed = BedTool.from_dataframe(hg19_gene_min_2)\n"
   ]
  },
  {
   "cell_type": "code",
   "execution_count": null,
   "metadata": {},
   "outputs": [],
   "source": [
    "#Identify KMT2A-AF4 target genes called in SEM cells by Guenther et al. 2008\n",
    "guenther_SEM_hg19_bed = BedTool(\"../../Documents/cutandtag_data/bed_files_for_kmt2a_manuscript/guenther_SEM__hg19.bed\")\n",
    "guenther_SEM_gene2_bed = guenther_SEM_hg19_bed.intersect(hg19_gene_min_2_bed, wao=True)\n",
    "guenther_SEM_gene2 =  pd.read_csv(guenther_SEM_gene2_bed.fn, sep='\\t')\n",
    "guenther_SEM_gene2.columns = ['chrom', 'start', 'stop', 'chrom2', 'start2', 'stop2', 'name2', 'overlap']\n",
    "guenther_SEM_gene_list = guenther_SEM_gene2 ['name2'].to_list()\n",
    "guenther_SEM_gene_set = set(guenther_SEM_gene_list)"
   ]
  },
  {
   "cell_type": "code",
   "execution_count": null,
   "metadata": {},
   "outputs": [],
   "source": [
    "#Identify KMT2A-AF4 target genes called in SEM cells in the current study\n",
    "SEM_kmt2a_peaks = BedTool(\"../../Documents/cutandtag_data/bed_files_for_kmt2a_manuscript/kmt2a_peakcalls_revision/SEM_C1C2N1N2_merged.relaxed.NoverCvalues_210208.bed\")\n",
    "SEM_kmt2a_peaks_df = pd.read_csv(SEM_kmt2a_peaks.fn, sep='\\t')\n",
    "SEM_kmt2a_peaks_df.columns = ['chrom', 'start', 'stop', 'NCscore', 'NC_target', 'length_target', 'NC_target_2', 'length_target_2']\n",
    "\n",
    "# The NC_target and length_target columns of SEM_C1C2N1N2_merged.relaxed.NoverCvalues_210208.bed \n",
    "# are a 1 if the peak falls above the threshold set by Gaussian Modeling\n",
    "SEM_kmt2a_peaks_df['Both_Target'] = ['Target' if x == 1 and y == 1 else 'Not' for x,y in zip(SEM_kmt2a_peaks_df['NC_target'], SEM_kmt2a_peaks_df['length_target'])]\n",
    "SEM_kmt2a_target_peaks = SEM_kmt2a_peaks_df[SEM_kmt2a_peaks_df['Both_Target'].isin(['Target'])]\n",
    "SEM_kmt2a_target_peaks = SEM_kmt2a_target_peaks.iloc[:,[0, 1, 2]]\n",
    "SEM_kmt2a_target_peaks_bed = BedTool.from_dataframe(SEM_kmt2a_target_peaks)\n",
    "\n",
    "DJ_SEM_gene2_bed = SEM_kmt2a_target_peaks_bed.intersect(hg19_gene_min_2_bed, wao=True)\n",
    "DJ_SEM_gene2 =  pd.read_csv(DJ_SEM_gene2_bed.fn, sep='\\t')\n",
    "DJ_SEM_gene2.columns = ['chrom', 'start', 'stop', 'chrom2', 'start2', 'stop2', 'name2', 'overlap']\n",
    "DJ_SEM_gene_list = DJ_SEM_gene2 ['name2'].to_list()\n",
    "DJ_SEM_gene_set = set(DJ_SEM_gene_list)"
   ]
  },
  {
   "cell_type": "code",
   "execution_count": null,
   "metadata": {},
   "outputs": [],
   "source": [
    "len(guenther_SEM_gene_set)"
   ]
  },
  {
   "cell_type": "code",
   "execution_count": null,
   "metadata": {},
   "outputs": [],
   "source": [
    "len(DJ_SEM_gene_set)"
   ]
  },
  {
   "cell_type": "code",
   "execution_count": null,
   "metadata": {},
   "outputs": [],
   "source": [
    "#Identify genes from DJ_SEM_gene set that are also in guenther_SEM_gene_set\n",
    "SEM_overlapping_gene2 = guenther_SEM_gene2[guenther_SEM_gene2['name2'].isin(['KLRK1', 'FLJ32255', 'MBNL1-AS1', 'HOXA10-HOXA9', 'LOC105378330', 'PROM1', 'HOXA-AS3', 'ZCCHC7', 'LOC101928166', 'NIPBL', 'LOC101928100', 'LOC153684', 'HOXA10-AS', 'CLECL1', 'HMGA2', 'TRHDE', 'LOC100132356', 'PAX5', 'MEIS1', 'HOXA10', 'MBNL1', 'RUNX1', 'FLT3', 'CLEC2B', 'ZEB2', 'HOXA7', 'LOC648987', 'ANXA2R', 'HOXA9', 'MIR4466', 'EBF1', 'PTPRR', 'MEIS1-AS2', 'BCL11A', 'ZC3H12C', 'PPP2R5C', 'CDKN2C', 'CPNE8', 'ARID1B', 'KLRF2', 'GNAQ', 'TAPT1', 'SUPT3H', 'PRSS12', 'LOC100506639', 'RNF220', 'MEF2C', 'KLRC4-KLRK1', 'ELF1', 'RPSAP52', 'NIPBL-DT', 'APOLD1', 'BCAT1', 'LINC01412', 'ARPP21', 'IKZF1', 'CLEC9A', 'MED13L', '.', 'LINC02202', 'HIPK3', 'CDK6', 'JMJD1C', 'SATB1-AS1', 'SEMA3A', 'TAPT1-AS1', 'ERG', 'MEF2C-AS1', 'MEIS1-AS3', 'LOC339862', 'SATB1', 'CDKN1B', 'KLRC4', 'HIVEP2', 'REEP3', 'TWIST1', 'LOC645177', 'ZEB2-AS1', 'SMARCA2', 'TRHDE-AS1', 'LOC105373656', 'LOC115308161', 'CDK14', 'CLEC1A', 'LRMP', 'KLRC3', 'SENP6', 'MIR196B', 'RUNX2', 'CDK6-AS1', 'JMJD1C-AS1'])]\n",
    "SEM_overlapping_gene_list = SEM_overlapping_gene2 ['name2'].to_list()\n",
    "SEM_overlapping_gene_set = set(SEM_overlapping_gene_list)\n",
    "len(SEM_overlapping_gene_set)"
   ]
  },
  {
   "cell_type": "markdown",
   "metadata": {},
   "source": [
    "## Pie Charts of Gene Annotation Overlap (Fig. 1e)"
   ]
  },
  {
   "cell_type": "code",
   "execution_count": null,
   "metadata": {},
   "outputs": [],
   "source": [
    "from pybedtools import BedTool\n",
    "import pandas as pd\n",
    "import matplotlib.pyplot as plt"
   ]
  },
  {
   "cell_type": "code",
   "execution_count": null,
   "metadata": {},
   "outputs": [],
   "source": [
    "#Import Bed file corresponding to an hg19 TSS list\n",
    "hg19_tss = BedTool(\"../../Documents/cutandtag_data/bed_files_for_kmt2a_manuscript/hg19_ncbiRefSeq.tss\")\n",
    "\n",
    "#Generate a Bed file corresponding to a list of gene intervals from hg19\n",
    "hg19_gene_list = pd.read_csv(\"../../Documents/hg19_ucscgenes.dms\", sep=\"\\t\", skiprows=[0], header=None)\n",
    "hg19_gene_list.columns = [\"bin\",\"name\",\"chrom\",\"strand\",\"txStart\",\"txEnd\",\"cdsStart\",\"cdsEnd\",\"exonCount\",\"exonStarts\",\"exonEnds\",\"score\",\"name2\",\"cdsStartStat\",\"cdsEndStat\",\"exonFrames\"]\n",
    "hg19_gene_min = hg19_gene_list.iloc[:,[12, 2, 3, 4, 5]]\n",
    "hg19_gene_min_2 = hg19_gene_min.iloc[:,[1, 3, 4, 0]]\n",
    "hg19_gene_min_2_bed = BedTool.from_dataframe(hg19_gene_min_2)"
   ]
  },
  {
   "cell_type": "code",
   "execution_count": null,
   "metadata": {},
   "outputs": [],
   "source": [
    "#Import Bed files corresponding to Wide Peaks in CD34 and H1, or KMT2A fusion target intervals from samples of interest called by Gaussian mixture modeling\n",
    "\n",
    "CD34_Master_peaks_bed = BedTool(\"../../Documents/cutandtag_data/bed_files_for_kmt2a_manuscript/kmt2a_peakcalls_revision/CD34_Master_Peaks.bed\")\n",
    "H1_Master_peaks_bed = BedTool(\"../../Documents/cutandtag_data/bed_files_for_kmt2a_manuscript/kmt2a_peakcalls_revision/H1_Master_Peaks.bed\")\n",
    "ML2_Master_peaks_bed = BedTool(\"../../Documents/cutandtag_data/bed_files_for_kmt2a_manuscript/kmt2a_peakcalls_revision/ML2_Master_Peaks.bed\")\n",
    "SEM_Master_peaks_bed = BedTool(\"../../Documents/cutandtag_data/bed_files_for_kmt2a_manuscript/kmt2a_peakcalls_revision/SEM_Master_Peaks.bed\")\n",
    "RS411_Master_peaks_bed = BedTool(\"../../Documents/cutandtag_data/bed_files_for_kmt2a_manuscript/kmt2a_peakcalls_revision/RS411_Master_Peaks.bed\")\n",
    "KOPN8_Master_peaks_bed = BedTool(\"../../Documents/cutandtag_data/bed_files_for_kmt2a_manuscript/kmt2a_peakcalls_revision/KOPN8_Master_Peaks.bed\")\n",
    "A4_Master_peaks_bed = BedTool(\"../../Documents/cutandtag_data/bed_files_for_kmt2a_manuscript/kmt2a_peakcalls_revision/A4_Master_Peaks.bed\")\n",
    "A5_Master_peaks_bed = BedTool(\"../../Documents/cutandtag_data/bed_files_for_kmt2a_manuscript/kmt2a_peakcalls_revision/A5_Master_Peaks.bed\")\n",
    "A6_Master_peaks_bed = BedTool(\"../../Documents/cutandtag_data/bed_files_for_kmt2a_manuscript/kmt2a_peakcalls_revision/A6_Master_Peaks.bed\")\n",
    "A107_Master_peaks_bed = BedTool(\"../../Documents/cutandtag_data/bed_files_for_kmt2a_manuscript/kmt2a_peakcalls_revision/A107_Master_Peaks.bed\")\n",
    "A109_Master_peaks_bed = BedTool(\"../../Documents/cutandtag_data/bed_files_for_kmt2a_manuscript/kmt2a_peakcalls_revision/A109_Master_Peaks.bed\")\n",
    "A384_Master_peaks_bed = BedTool(\"../../Documents/cutandtag_data/bed_files_for_kmt2a_manuscript/kmt2a_peakcalls_revision/A384_Master_Peaks.bed\")\n",
    "TB11_Master_peaks_bed = BedTool(\"../../Documents/cutandtag_data/bed_files_for_kmt2a_manuscript/kmt2a_peakcalls_revision/TB11_Master_Peaks.bed\")\n",
    "TB13_Master_peaks_bed = BedTool(\"../../Documents/cutandtag_data/bed_files_for_kmt2a_manuscript/kmt2a_peakcalls_revision/TB13_Master_Peaks.bed\")"
   ]
  },
  {
   "cell_type": "code",
   "execution_count": null,
   "metadata": {},
   "outputs": [],
   "source": [
    "#Determine how many of the peaks of interest overlap a TSS\n",
    "len(CD34_Master_peaks_bed.intersect(hg19_tss, u=True))"
   ]
  },
  {
   "cell_type": "code",
   "execution_count": null,
   "metadata": {},
   "outputs": [],
   "source": [
    "#Determine how many of the peaks of interest overlap a gene body\n",
    "len((CD34_Master_peaks_bed.intersect(hg19_tss, v=True)).intersect(hg19_gene_min_2_bed, u=True))"
   ]
  },
  {
   "cell_type": "code",
   "execution_count": null,
   "metadata": {},
   "outputs": [],
   "source": [
    "#Determine how many of the peaks of interest fall in intergenic regions\n",
    "len((CD34_Master_peaks_bed.intersect(hg19_tss, v=True)).intersect(hg19_gene_min_2_bed, v=True))"
   ]
  },
  {
   "cell_type": "code",
   "execution_count": null,
   "metadata": {},
   "outputs": [],
   "source": [
    "#Generate Pie Chart using the number of TSS, Gene Body, and intergenic peaks\n",
    "labels = ['TSS', 'Gene Body', 'Intergenic']\n",
    "sizes = [5180,679,344]\n",
    "fig1, ax1 = plt.subplots()\n",
    "ax1.pie(sizes, labels=labels, startangle=90, colors='m''c''k')\n",
    "ax1.axis('equal')  \n",
    "plt.tight_layout()\n",
    "plt.show()"
   ]
  },
  {
   "cell_type": "markdown",
   "metadata": {},
   "source": [
    "## Boxplot of KMT2A-N vs. KMT2A-C signal over KMT2A oncoprotein target intervals (Fig. 1f)"
   ]
  },
  {
   "cell_type": "code",
   "execution_count": null,
   "metadata": {},
   "outputs": [],
   "source": [
    "import seaborn as sns\n",
    "from pybedtools import BedTool\n",
    "import numpy as np\n",
    "import pandas as pd\n",
    "import scipy.stats as sts"
   ]
  },
  {
   "cell_type": "code",
   "execution_count": null,
   "metadata": {},
   "outputs": [],
   "source": [
    "#Specify Function to Calculate the coverage nomralized KMT2A N-terminal and C-terminal signal on oncoprotein target sites\n",
    "def get_dm_kmt2a_target_Coverage(bed, peakfile):\n",
    "    target_bed = BedTool(bed)\n",
    "    kmt2a_intervals = BedTool(peakfile)\n",
    "\n",
    "#Calculate Coverage for the N_target_bed\n",
    "    \n",
    "    target_tbp_coverage = pd.read_csv(target_bed.fn, sep='\\t')\n",
    "    target_tbp_coverage.columns = ['chrom', 'start', 'stop', 'bp', 'score', 'strand']\n",
    "    target_tbp_coverage = target_tbp_coverage[\"bp\"].sum()\n",
    "    \n",
    "\n",
    "#Format the Kmt2a Peak File\n",
    "\n",
    "    kmt2a_intervals_df = pd.read_csv(kmt2a_intervals.fn, sep='\\t')\n",
    "    kmt2a_intervals_df.columns = ['chrom', 'start', 'stop', 'NCscore', 'NC_target', 'length_target', 'NC_target_2', 'length_target_2']\n",
    "    kmt2a_intervals_df['peak_size'] = kmt2a_intervals_df['stop'] - kmt2a_intervals_df['start']\n",
    "    kmt2a_intervals_df['Both_Target'] = ['Target' if x == 1 and y == 1 else 'Not' for x,y in zip(kmt2a_intervals_df['NC_target'], kmt2a_intervals_df['length_target'])]\n",
    "    kmt2a_intervals_df['Both_Target_2'] = ['Target' if x == 1 and y == 1 else 'Not' for x,y in zip(kmt2a_intervals_df['NC_target_2'], kmt2a_intervals_df['length_target_2'])]\n",
    "    kmt2a_intervals_df = kmt2a_intervals_df[kmt2a_intervals_df['Both_Target'].isin(['Target'])]\n",
    "    \n",
    "#sum and normalize the target signal over the Nspecific and NCshared intervals as well as 10kb intervals\n",
    "    #and normalize to coverage\n",
    "\n",
    "    kmt2a_intervals_bed = BedTool.from_dataframe(kmt2a_intervals_df)\n",
    "    target_int_sum = kmt2a_intervals_bed.intersect(target_bed, wao=True) \n",
    "    target_int_sum =  pd.read_csv(target_int_sum.fn, sep='\\t')\n",
    "    target_int_sum.columns = ['chrom','start', 'stop', 'NCscore', 'NC_target', 'length_target', 'NC_target_2', 'length_target_2', 'peak_size', 'Both_Target', 'Both_Target_2', 'chrom2','start2', 'stop2', 'bp', 'score2', 'strand', 'overlap']\n",
    "\n",
    "    target_int_sum = target_int_sum.groupby(['chrom','start','stop', 'NCscore', 'NC_target', 'length_target', 'NC_target_2', 'length_target_2', 'peak_size', 'Both_Target', 'Both_Target_2']).agg({'overlap': ['sum']}).reset_index()\n",
    "    target_int_sum.columns = ['chrom','start','stop', 'NCscore', 'NC_target', 'length_target', 'NC_target_2', 'length_target_2', 'peak_size', 'Both_Target', 'Both_Target_2','target_int_sum']\n",
    "    target_int_sum['target_int_sum_norm'] = ((target_int_sum['target_int_sum']/target_int_sum['peak_size']) * ((1/target_tbp_coverage)*1000000000))+1\n",
    "    output_df = target_int_sum\n",
    "\n",
    "    return output_df"
   ]
  },
  {
   "cell_type": "code",
   "execution_count": null,
   "metadata": {},
   "outputs": [],
   "source": [
    "#Specify Function to Calculate the coverage nomralized KMT2A N-terminal and C-terminal signal on oncoprotein target sites in ML2\n",
    "def get_ML2_kmt2a_target_Coverage(bed, peakfile):\n",
    "    target_bed = BedTool(bed)\n",
    "    kmt2a_intervals = BedTool(peakfile)\n",
    "\n",
    "#Calculate Coverage for the target_bed\n",
    "    \n",
    "    target_tbp_coverage = pd.read_csv(target_bed.fn, sep='\\t')\n",
    "    target_tbp_coverage.columns = ['chrom', 'start', 'stop', 'bp', 'score', 'strand']\n",
    "    target_tbp_coverage = target_tbp_coverage[\"bp\"].sum()\n",
    "\n",
    "#Format the Kmt2a Peak File\n",
    "\n",
    "    kmt2a_intervals_df = pd.read_csv(kmt2a_intervals.fn, sep='\\t')\n",
    "    kmt2a_intervals_df.columns = ['chrom', 'start', 'stop', 'NCscore', 'NC_target', 'length_target']\n",
    "    kmt2a_intervals_df['peak_size'] = kmt2a_intervals_df['stop'] - kmt2a_intervals_df['start']\n",
    "    kmt2a_intervals_df['Both_Target'] = ['Target' if x == 1 else 'Not' for x in kmt2a_intervals_df['NC_target']]\n",
    "    kmt2a_intervals_df = kmt2a_intervals_df[kmt2a_intervals_df['Both_Target'].isin(['Target'])]\n",
    "    \n",
    "#sum and normalize the target signal over the Nspecific and NCshared intervals as well as 10kb intervals\n",
    "    #and normalize to coverage\n",
    "\n",
    "    kmt2a_intervals_bed = BedTool.from_dataframe(kmt2a_intervals_df)\n",
    "    target_int_sum = kmt2a_intervals_bed.intersect(target_bed, wao=True) \n",
    "    target_int_sum =  pd.read_csv(target_int_sum.fn, sep='\\t')\n",
    "    target_int_sum.columns = ['chrom','start', 'stop', 'NCscore', 'NC_target', 'length_target', 'peak_size', 'Both_Target', 'chrom2','start2', 'stop2', 'bp', 'score2', 'strand', 'overlap']\n",
    "\n",
    "    target_int_sum = target_int_sum.groupby(['chrom','start','stop', 'NCscore', 'NC_target', 'length_target', 'peak_size', 'Both_Target']).agg({'overlap': ['sum']}).reset_index()\n",
    "    target_int_sum.columns = ['chrom','start','stop', 'NCscore', 'NC_target', 'length_target', 'peak_size', 'Both_Target', 'target_int_sum']\n",
    "    target_int_sum['target_int_sum_norm'] = ((target_int_sum['target_int_sum']/target_int_sum['peak_size']) * ((1/target_tbp_coverage)*1000000000))+1\n",
    "    output_df = target_int_sum\n",
    "\n",
    "    return output_df"
   ]
  },
  {
   "cell_type": "code",
   "execution_count": null,
   "metadata": {},
   "outputs": [],
   "source": [
    "#Specify Function to Calculate the coverage nomralized KMT2A N-terminal and C-terminal signal on wide KMT2A target sites in control samples\n",
    "def get_ctrl_kmt2a_target_Coverage(bed, peakfile):\n",
    "    target_bed = BedTool(bed)\n",
    "    kmt2a_intervals = BedTool(peakfile)\n",
    "\n",
    "#Calculate Coverage for the target_bed\n",
    "    \n",
    "    target_tbp_coverage = pd.read_csv(target_bed.fn, sep='\\t')\n",
    "    target_tbp_coverage.columns = ['chrom', 'start', 'stop', 'bp', 'score', 'strand']\n",
    "    target_tbp_coverage = target_tbp_coverage[\"bp\"].sum()\n",
    "\n",
    "#Format the Kmt2a Peak File\n",
    "\n",
    "    kmt2a_intervals_df = pd.read_csv(kmt2a_intervals.fn, sep='\\t')\n",
    "    kmt2a_intervals_df.columns = ['chrom', 'start', 'stop', 'NCscore', 'NC_target', 'length_target', 'NC_target_2', 'length_target_2', ]\n",
    "    kmt2a_intervals_df['peak_size'] = kmt2a_intervals_df['stop'] - kmt2a_intervals_df['start']\n",
    "    kmt2a_intervals_df['Both_Target'] = ['Target' if x == 1 else 'Not' for x in kmt2a_intervals_df['length_target']]\n",
    "    kmt2a_intervals_df['Both_Target_2'] = ['Target' if x == 1 and y == 1 else 'Not' for x,y in zip(kmt2a_intervals_df['NC_target_2'], kmt2a_intervals_df['length_target_2'])]\n",
    "    kmt2a_intervals_df = kmt2a_intervals_df[kmt2a_intervals_df['Both_Target'].isin(['Target'])]\n",
    "    \n",
    "#sum and normalize the target signal over the Nspecific and NCshared intervals as well as 10kb intervals\n",
    "    #and normalize to coverage\n",
    "\n",
    "    kmt2a_intervals_bed = BedTool.from_dataframe(kmt2a_intervals_df)\n",
    "    target_int_sum = kmt2a_intervals_bed.intersect(target_bed, wao=True) \n",
    "    target_int_sum =  pd.read_csv(target_int_sum.fn, sep='\\t')\n",
    "    target_int_sum.columns = ['chrom','start', 'stop', 'NCscore', 'NC_target', 'length_target', 'NC_target_2', 'length_target_2', 'peak_size', 'Both_Target', 'Both_Target_2', 'chrom2','start2', 'stop2', 'bp', 'score2', 'strand', 'overlap']\n",
    "\n",
    "    target_int_sum = target_int_sum.groupby(['chrom','start','stop', 'NCscore', 'NC_target', 'length_target', 'NC_target_2', 'length_target_2', 'peak_size', 'Both_Target', 'Both_Target_2']).agg({'overlap': ['sum']}).reset_index()\n",
    "    target_int_sum.columns = ['chrom','start','stop', 'NCscore', 'NC_target', 'length_target', 'NC_target_2', 'length_target_2', 'peak_size', 'Both_Target', 'Both_Target_2','target_int_sum']\n",
    "    target_int_sum['target_int_sum_norm'] = ((target_int_sum['target_int_sum']/target_int_sum['peak_size']) * ((1/target_tbp_coverage)*1000000000))+1\n",
    "    output_df = target_int_sum\n",
    "\n",
    "    return output_df"
   ]
  },
  {
   "cell_type": "code",
   "execution_count": null,
   "metadata": {},
   "outputs": [],
   "source": [
    "# Input the KMT2A-N (target_bed) profile as bed files \n",
    "# as well as the The KMT2A peak file (kmt2a_intervals) with the fifth column containing a 1 if the NC_score fell above the threshold set by Gaussian modeling\n",
    "# and the sixth column containing a 1 if the peak size fell above the threshold set by Gaussian modeling\n",
    "target_bed = [\"../../Documents/cutandtag_data/bed_files_for_kmt2a_manuscript/merged_cutnrun_bedfiles/JS_HsEc_Nterm_SEM_2ab_031020.bed\"]\n",
    "kmt2a_intervals = \"../../Documents/cutandtag_data/bed_files_for_kmt2a_manuscript/kmt2a_peakcalls_revision/SEM_C1C2N1N2_merged.relaxed.NoverCvalues_210208.bed\"\n",
    "\n",
    "\n",
    "for bed in target_bed:\n",
    "    SEM_Nterm = get_dm_kmt2a_target_Coverage(bed, kmt2a_intervals)"
   ]
  },
  {
   "cell_type": "code",
   "execution_count": null,
   "metadata": {},
   "outputs": [],
   "source": [
    "# Input the KMT2A-C (target_bed) profile as bed files \n",
    "# as well as the The KMT2A peak file (kmt2a_intervals) with the fifth column containing a 1 if the NC_score fell above the threshold set by Gaussian modeling\n",
    "# and the sixth column containing a 1 if the peak size fell above the threshold set by Gaussian modeling\n",
    "target_bed = [\"../../Documents/cutandtag_data/bed_files_for_kmt2a_manuscript/merged_cutnrun_bedfiles/JS_HsEc_Cterm_SEM_2ab_031020.bed\"]\n",
    "kmt2a_intervals = \"../../Documents/cutandtag_data/bed_files_for_kmt2a_manuscript/kmt2a_peakcalls_revision/SEM_C1C2N1N2_merged.relaxed.NoverCvalues_210208.bed\"\n",
    "\n",
    "\n",
    "for bed in target_bed:\n",
    "    SEM_Cterm = get_dm_kmt2a_target_Coverage(bed, kmt2a_intervals)"
   ]
  },
  {
   "cell_type": "code",
   "execution_count": null,
   "metadata": {},
   "outputs": [],
   "source": [
    "# Input the KMT2A-N (target_bed) profiles as bed files \n",
    "# as well as the The KMT2A peak file (kmt2a_intervals) with the fifth column containing a 1 if the NC_score fell above the threshold set by Gaussian modeling\n",
    "target_bed = [\"../../Documents/cutandtag_data/bed_files_for_kmt2a_manuscript/merged_cutnrun_bedfiles/JS_Hs_Nterm_ML2_2ab.bed\"]\n",
    "kmt2a_intervals = \"../../Documents/cutandtag_data/bed_files_for_kmt2a_manuscript/kmt2a_peakcalls_revision/ML2_CcombNcomb_merged.relaxed.NoverCvalues_210210.bed\"\n",
    "\n",
    "\n",
    "for bed in target_bed:\n",
    "    ML2_Nterm = get_ML2_kmt2a_target_Coverage(bed, kmt2a_intervals)"
   ]
  },
  {
   "cell_type": "code",
   "execution_count": null,
   "metadata": {},
   "outputs": [],
   "source": [
    "# Input the and KMT2A-C (target_bed) profiles as bed files \n",
    "# as well as the The KMT2A peak file (kmt2a_intervals) with the fifth column containing a 1 if the NC_score fell above the threshold set by Gaussian modeling\n",
    "target_bed = [\"../../Documents/cutandtag_data/bed_files_for_kmt2a_manuscript/merged_cutnrun_bedfiles/JS_Hs_Cterm_ML2_2ab.bed\"]\n",
    "kmt2a_intervals = \"../../Documents/cutandtag_data/bed_files_for_kmt2a_manuscript/kmt2a_peakcalls_revision/ML2_CcombNcomb_merged.relaxed.NoverCvalues_210210.bed\"\n",
    "\n",
    "\n",
    "for bed in target_bed:\n",
    "    ML2_Cterm = get_ML2_kmt2a_target_Coverage(bed, kmt2a_intervals)"
   ]
  },
  {
   "cell_type": "code",
   "execution_count": null,
   "metadata": {},
   "outputs": [],
   "source": [
    "# Input the KMT2A-N (target_bed) profiles as bed files \n",
    "# as well as the The KMT2A peak file (kmt2a_intervals) with the sixth column containing a 1 if the peak size fell above the threshold set by Gaussian modeling\n",
    "target_bed = [\"../../Documents/cutandtag_data/bed_files_for_kmt2a_manuscript/merged_cutnrun_bedfiles/DJ_Hs_Nterm_CD34_2ab.bed\"]\n",
    "kmt2a_intervals = \"../../Documents/cutandtag_data/bed_files_for_kmt2a_manuscript/kmt2a_peakcalls_revision/CD34_C1C2N1N2_merged.relaxed.NoverCvalues_210208.bed\"\n",
    "\n",
    "\n",
    "for bed in target_bed:\n",
    "    CD34_Nterm = get_ctrl_kmt2a_target_Coverage(bed, kmt2a_intervals)"
   ]
  },
  {
   "cell_type": "code",
   "execution_count": null,
   "metadata": {},
   "outputs": [],
   "source": [
    "# Input the KMT2A-C (target_bed) profiles as bed files \n",
    "# as well as the The KMT2A peak file (kmt2a_intervals) with the sixth column containing a 1 if the peak size fell above the threshold set by Gaussian modeling\n",
    "target_bed = [\"../../Documents/cutandtag_data/bed_files_for_kmt2a_manuscript/merged_cutnrun_bedfiles/DJ_Hs_Cterm_CD34_2ab.bed\"]\n",
    "kmt2a_intervals = \"../../Documents/cutandtag_data/bed_files_for_kmt2a_manuscript/kmt2a_peakcalls_revision/CD34_C1C2N1N2_merged.relaxed.NoverCvalues_210208.bed\"\n",
    "\n",
    "\n",
    "for bed in target_bed:\n",
    "    CD34_Cterm = get_ctrl_kmt2a_target_Coverage(bed, kmt2a_intervals)"
   ]
  },
  {
   "cell_type": "code",
   "execution_count": null,
   "metadata": {},
   "outputs": [],
   "source": [
    "# Add a column corresponding to the sample name and column corresponding to the anitbody\n",
    "CD34_Nterm['sample'] = 'CD34'\n",
    "CD34_Nterm['antibody'] = 'Nterm'\n",
    "CD34_Cterm['sample'] = 'CD34'\n",
    "CD34_Cterm['antibody'] = 'Cterm'\n",
    "K562_Nterm['sample'] = 'K562'\n",
    "K562_Nterm['antibody'] = 'Nterm'\n",
    "K562_Cterm['sample'] = 'K562'\n",
    "K562_Cterm['antibody'] = 'Cterm'\n",
    "ML2_Nterm['sample'] = 'ML2'\n",
    "ML2_Nterm['antibody'] = 'Nterm'\n",
    "ML2_Cterm['sample'] = 'ML2'\n",
    "ML2_Cterm['antibody'] = 'Cterm'\n",
    "SEM_Nterm['sample'] = 'SEM'\n",
    "SEM_Nterm['antibody'] = 'Nterm'\n",
    "SEM_Cterm['sample'] = 'SEM'\n",
    "SEM_Cterm['antibody'] = 'Cterm'\n",
    "RS411_Nterm['sample'] = 'RS411'\n",
    "RS411_Nterm['antibody'] = 'Nterm'\n",
    "RS411_Cterm['sample'] = 'RS411'\n",
    "RS411_Cterm['antibody'] = 'Cterm'\n",
    "KOPN8_Nterm['sample'] = 'KOPN8'\n",
    "KOPN8_Nterm['antibody'] = 'Nterm'\n",
    "KOPN8_Cterm['sample'] = 'KOPN8'\n",
    "KOPN8_Cterm['antibody'] = 'Cterm'\n",
    "A4_Nterm['sample'] = 'A4'\n",
    "A4_Nterm['antibody'] = 'Nterm'\n",
    "A4_Cterm['sample'] = 'A4'\n",
    "A4_Cterm['antibody'] = 'Cterm'\n",
    "A5_Nterm['sample'] = 'A5'\n",
    "A5_Nterm['antibody'] = 'Nterm'\n",
    "A5_Cterm['sample'] = 'A5'\n",
    "A5_Cterm['antibody'] = 'Cterm'\n",
    "A6_Nterm['sample'] = 'A6'\n",
    "A6_Nterm['antibody'] = 'Nterm'\n",
    "A6_Cterm['sample'] = 'A6'\n",
    "A6_Cterm['antibody'] = 'Cterm'\n",
    "TB11_Nterm['sample'] = 'TB11'\n",
    "TB11_Nterm['antibody'] = 'Nterm'\n",
    "TB11_Cterm['sample'] = 'TB11'\n",
    "TB11_Cterm['antibody'] = 'Cterm'\n",
    "TB13_Nterm['sample'] = 'TB13'\n",
    "TB13_Nterm['antibody'] = 'Nterm'\n",
    "TB13_Cterm['sample'] = 'TB13'\n",
    "TB13_Cterm['antibody'] = 'Cterm'\n",
    "A107_Nterm['sample'] = 'A107'\n",
    "A107_Nterm['antibody'] = 'Nterm'\n",
    "A107_Cterm['sample'] = 'A107'\n",
    "A107_Cterm['antibody'] = 'Cterm'\n",
    "A109_Nterm['sample'] = 'A109'\n",
    "A109_Nterm['antibody'] = 'Nterm'\n",
    "A109_Cterm['sample'] = 'A109'\n",
    "A109_Cterm['antibody'] = 'Cterm'\n",
    "A384_Nterm['sample'] = 'A384'\n",
    "A384_Nterm['antibody'] = 'Nterm'\n",
    "A384_Cterm['sample'] = 'A384'\n",
    "A384_Cterm['antibody'] = 'Cterm'\n",
    "\n",
    "#concatenate the output files\n",
    "\n",
    "ALL_KMT2A = pd.concat((CD34_Nterm, CD34_Cterm, K562_Nterm, K562_Cterm, ML2_Nterm, ML2_Cterm, SEM_Nterm, SEM_Cterm, RS411_Nterm, RS411_Cterm, KOPN8_Nterm, KOPN8_Cterm, TB13_Nterm, TB13_Cterm, A4_Nterm, A4_Cterm, A6_Nterm, A6_Cterm, A107_Nterm, A107_Cterm, A384_Nterm, A384_Cterm, A109_Nterm, A109_Cterm, TB11_Nterm, TB11_Cterm, A5_Nterm, A5_Cterm))"
   ]
  },
  {
   "cell_type": "code",
   "execution_count": null,
   "metadata": {},
   "outputs": [],
   "source": [
    "# Generate the Boxplot\n",
    "box_colors = [\"fire engine red\", \"deep sky blue\", \"fire engine red\", \"deep sky blue\", \"fire engine red\", \"deep sky blue\", \"fire engine red\", \"deep sky blue\", \"fire engine red\", \"deep sky blue\", \"fire engine red\", \"deep sky blue\", \"fire engine red\"]\n",
    "plt.figure(figsize=(15,15))\n",
    "KMT2A_int_boxplot = sns.boxplot(data=ALL_KMT2A, x='sample', hue=\"antibody\", y='target_int_sum_norm', palette=(sns.xkcd_palette(box_colors)), linewidth=3, fliersize=0)\n",
    "KMT2A_int_boxplot.set(yscale=\"log\", ylim=(0.9, 150))\n",
    "plt.legend(bbox_to_anchor=(1.05, 1), loc=2, borderaxespad=0.)\n",
    "\n",
    "medians = ALL_KMT2A.groupby(['sample','antibody'])['target_int_sum_norm'].median()\n",
    "counts = ALL_KMT2A.groupby(['sample','antibody'])['target_int_sum_norm'].count()\n",
    "\n",
    "\n",
    "print(medians)\n",
    "print(counts)\n",
    "\n",
    "for sample in ALL_KMT2A['sample'].unique():\n",
    "    ls = list()\n",
    "    for targ in ALL_KMT2A['antibody'].unique():\n",
    "        cat_tmp = ALL_KMT2A.loc[(ALL_KMT2A['antibody'] == targ) & (ALL_KMT2A['sample'] == sample)]\n",
    "        ls.append(cat_tmp)\n",
    "    print(sample, targ)\n",
    "    print(ttest_ind(ls[0]['target_int_sum_norm'], ls[1]['target_int_sum_norm']))\n",
    "\n"
   ]
  },
  {
   "cell_type": "markdown",
   "metadata": {},
   "source": [
    "## Boxplot of the fold-difference between the KMT2A-N vs. KMT2A-C terminal signals (Extended Data Fig. 3a)"
   ]
  },
  {
   "cell_type": "code",
   "execution_count": null,
   "metadata": {},
   "outputs": [],
   "source": [
    "import seaborn as sns\n",
    "from pybedtools import BedTool\n",
    "import numpy as np\n",
    "import pandas as pd\n",
    "import scipy.stats as sts"
   ]
  },
  {
   "cell_type": "code",
   "execution_count": null,
   "metadata": {},
   "outputs": [],
   "source": [
    "#Specify Function to Calculate the N over C fold difference on oncoprotein target sites\n",
    "def get_kmt2a_NvsC_FC(bed, bed2, peakfile):\n",
    "    Nterm_bed = BedTool(bed)\n",
    "    Cterm_bed = BedTool(bed2)\n",
    "    tumor_intervals = BedTool(peakfile)\n",
    "    \n",
    "#Calculate Nterm Coverage\n",
    "    \n",
    "    Nterm_tbp_coverage = pd.read_csv(Nterm_bed.fn, sep='\\t')\n",
    "    Nterm_tbp_coverage.columns = ['chrom', 'start', 'stop', 'bp', 'score', 'strand']\n",
    "    Nterm_tbp_coverage = Nterm_tbp_coverage[\"bp\"].sum()\n",
    "    \n",
    "#Calculate Cterm Coverage\n",
    "    \n",
    "    Cterm_tbp_coverage = pd.read_csv(Cterm_bed.fn, sep='\\t')\n",
    "    Cterm_tbp_coverage.columns = ['chrom', 'start', 'stop', 'bp', 'score', 'strand']\n",
    "    Cterm_tbp_coverage = Cterm_tbp_coverage[\"bp\"].sum()\n",
    "    \n",
    "\n",
    "#Determine the bp overlap with tumor bed and cd34 bed\n",
    "\n",
    "    tumor_NvsC_FC = tumor_intervals.intersect(Nterm_bed, wao=True) \n",
    "    tumor_NvsC_FC =  pd.read_csv(tumor_NvsC_FC.fn, sep='\\t')\n",
    "    tumor_NvsC_FC.columns = ['chrom','start', 'stop', 'NCscore', 'NC_target', 'length_target', 'NC_target_2', 'length_target_2', 'chrom2','start2', 'stop2', 'bp', 'score2', 'strand', 'overlap']\n",
    "    tumor_NvsC_FC['peak_size'] = tumor_NvsC_FC['stop'] - tumor_NvsC_FC['start']\n",
    "    tumor_NvsC_FC = tumor_NvsC_FC.groupby(['chrom','start','stop', 'NCscore', 'NC_target', 'length_target', 'peak_size']).agg({'overlap': ['sum']}).reset_index()\n",
    "    tumor_NvsC_FC.columns = ['chrom','start','stop', 'NCscore', 'NC_target', 'length_target', 'peak_size', 'Nterm_sum']\n",
    "    tumor_NvsC_FC['Nterm_signal'] = (tumor_NvsC_FC['Nterm_sum'] * ((1/Nterm_tbp_coverage)*1000000000))+1\n",
    "    tumor_NvsC_FC['Nterm_sum_norm'] = ((tumor_NvsC_FC['Nterm_sum']/tumor_NvsC_FC['peak_size']) * ((1/Nterm_tbp_coverage)*1000000000))+1\n",
    "    tumor_NvsC_FC = BedTool.from_dataframe(tumor_NvsC_FC)\n",
    "    tumor_NvsC_FC = tumor_NvsC_FC.intersect(Cterm_bed, wao=True) \n",
    "    tumor_NvsC_FC =  pd.read_csv(tumor_NvsC_FC.fn, sep='\\t')\n",
    "    tumor_NvsC_FC.columns = ['chrom','start', 'stop', 'NCscore', 'NC_target', 'length_target', 'peak_size', 'Nterm_sum', 'Nterm_signal', 'Nterm_sum_norm', 'chrom2','start2', 'stop2', 'bp', 'score2', 'strand', 'overlap']\n",
    "    tumor_NvsC_FC = tumor_NvsC_FC.groupby(['chrom','start', 'stop', 'NCscore', 'NC_target', 'length_target', 'peak_size', 'Nterm_sum', 'Nterm_signal', 'Nterm_sum_norm']).agg({'overlap': ['sum']}).reset_index()\n",
    "    tumor_NvsC_FC.columns = ['chrom','start', 'stop', 'NCscore', 'NC_target', 'length_target', 'peak_size', 'Nterm_sum', 'Nterm_signal', 'Nterm_sum_norm', 'Cterm_sum']\n",
    "    tumor_NvsC_FC['Cterm_signal'] = (tumor_NvsC_FC['Cterm_sum'] * ((1/Cterm_tbp_coverage)*1000000000))+1\n",
    "    tumor_NvsC_FC['Cterm_sum_norm'] = ((tumor_NvsC_FC['Cterm_sum']/tumor_NvsC_FC['peak_size']) * ((1/Cterm_tbp_coverage)*1000000000))+1\n",
    "    tumor_NvsC_FC['fold_change'] = tumor_NvsC_FC['Nterm_sum_norm']/tumor_NvsC_FC['Cterm_sum_norm']\n",
    "    tumor_NvsC_FC['Both_Target'] = ['Target' if x == 1 and y == 1 else 'Not' for x,y in zip(tumor_NvsC_FC['NC_target'], tumor_NvsC_FC['length_target'])]\n",
    "    \n",
    "    output_df = tumor_NvsC_FC\n",
    "    \n",
    "    return output_df"
   ]
  },
  {
   "cell_type": "code",
   "execution_count": null,
   "metadata": {},
   "outputs": [],
   "source": [
    "#Specify Function to Calculate the N over C fold difference on oncoprotein targets in ML2 sample\n",
    "def get_kmt2a_NvsC_FC_ML2(bed, bed2, peakfile):\n",
    "    Nterm_bed = BedTool(bed)\n",
    "    Cterm_bed = BedTool(bed2)\n",
    "    tumor_intervals = BedTool(peakfile)\n",
    "    \n",
    "#Calculate Nterm Coverage\n",
    "    \n",
    "    Nterm_tbp_coverage = pd.read_csv(Nterm_bed.fn, sep='\\t')\n",
    "    Nterm_tbp_coverage.columns = ['chrom', 'start', 'stop', 'bp', 'score', 'strand']\n",
    "    Nterm_tbp_coverage = Nterm_tbp_coverage[\"bp\"].sum()\n",
    "    \n",
    "#Calculate Cterm Coverage\n",
    "    \n",
    "    Cterm_tbp_coverage = pd.read_csv(Cterm_bed.fn, sep='\\t')\n",
    "    Cterm_tbp_coverage.columns = ['chrom', 'start', 'stop', 'bp', 'score', 'strand']\n",
    "    Cterm_tbp_coverage = Cterm_tbp_coverage[\"bp\"].sum()\n",
    "    \n",
    "\n",
    "#Determine the bp overlap with tumor bed and cd34 bed\n",
    "\n",
    "    tumor_NvsC_FC = tumor_intervals.intersect(Nterm_bed, wao=True) \n",
    "    tumor_NvsC_FC =  pd.read_csv(tumor_NvsC_FC.fn, sep='\\t')\n",
    "    tumor_NvsC_FC.columns = ['chrom','start', 'stop', 'NCscore', 'NC_target', 'length_target', 'chrom2','start2', 'stop2', 'bp', 'score2', 'strand', 'overlap']\n",
    "    tumor_NvsC_FC['peak_size'] = tumor_NvsC_FC['stop'] - tumor_NvsC_FC['start']\n",
    "    tumor_NvsC_FC = tumor_NvsC_FC.groupby(['chrom','start','stop', 'NCscore', 'NC_target', 'length_target', 'peak_size']).agg({'overlap': ['sum']}).reset_index()\n",
    "    tumor_NvsC_FC.columns = ['chrom','start','stop', 'NCscore', 'NC_target', 'length_target', 'peak_size', 'Nterm_sum']\n",
    "    tumor_NvsC_FC['Nterm_signal'] = (tumor_NvsC_FC['Nterm_sum'] * ((1/Nterm_tbp_coverage)*1000000000))+1\n",
    "    tumor_NvsC_FC['Nterm_sum_norm'] = ((tumor_NvsC_FC['Nterm_sum']/tumor_NvsC_FC['peak_size']) * ((1/Nterm_tbp_coverage)*1000000000))+1\n",
    "    tumor_NvsC_FC = BedTool.from_dataframe(tumor_NvsC_FC)\n",
    "    tumor_NvsC_FC = tumor_NvsC_FC.intersect(Cterm_bed, wao=True) \n",
    "    tumor_NvsC_FC =  pd.read_csv(tumor_NvsC_FC.fn, sep='\\t')\n",
    "    tumor_NvsC_FC.columns = ['chrom','start', 'stop', 'NCscore', 'NC_target', 'length_target', 'peak_size', 'Nterm_sum', 'Nterm_signal', 'Nterm_sum_norm', 'chrom2','start2', 'stop2', 'bp', 'score2', 'strand', 'overlap']\n",
    "    tumor_NvsC_FC = tumor_NvsC_FC.groupby(['chrom','start', 'stop', 'NCscore', 'NC_target', 'length_target', 'peak_size', 'Nterm_sum', 'Nterm_signal', 'Nterm_sum_norm']).agg({'overlap': ['sum']}).reset_index()\n",
    "    tumor_NvsC_FC.columns = ['chrom','start', 'stop', 'NCscore', 'NC_target', 'length_target', 'peak_size', 'Nterm_sum', 'Nterm_signal', 'Nterm_sum_norm', 'Cterm_sum']\n",
    "    tumor_NvsC_FC['Cterm_signal'] = (tumor_NvsC_FC['Cterm_sum'] * ((1/Cterm_tbp_coverage)*1000000000))+1\n",
    "    tumor_NvsC_FC['Cterm_sum_norm'] = ((tumor_NvsC_FC['Cterm_sum']/tumor_NvsC_FC['peak_size']) * ((1/Cterm_tbp_coverage)*1000000000))+1\n",
    "    tumor_NvsC_FC['fold_change'] = tumor_NvsC_FC['Nterm_sum_norm']/tumor_NvsC_FC['Cterm_sum_norm']\n",
    "    tumor_NvsC_FC['Both_Target'] = ['Target' if x == 1 else 'Not' for x in tumor_NvsC_FC['NC_target']]\n",
    "    tumor_NvsC_FC['Not_Target'] = ['Not' if x == 0 else 'Target' for x in tumor_NvsC_FC['NC_target']]\n",
    "    \n",
    "    output_df = tumor_NvsC_FC\n",
    "    \n",
    "    return output_df"
   ]
  },
  {
   "cell_type": "code",
   "execution_count": null,
   "metadata": {},
   "outputs": [],
   "source": [
    "#Specify Function to Calculate the N over C fold difference on wide sites in control samples\n",
    "def get_kmt2a_NvsC_FC_CD34(bed, bed2, peakfile):\n",
    "    Nterm_bed = BedTool(bed)\n",
    "    Cterm_bed = BedTool(bed2)\n",
    "    tumor_intervals = BedTool(peakfile)\n",
    "    \n",
    "#Calculate Nterm Coverage\n",
    "    \n",
    "    Nterm_tbp_coverage = pd.read_csv(Nterm_bed.fn, sep='\\t')\n",
    "    Nterm_tbp_coverage.columns = ['chrom', 'start', 'stop', 'bp', 'score', 'strand']\n",
    "    Nterm_tbp_coverage = Nterm_tbp_coverage[\"bp\"].sum()\n",
    "    \n",
    "#Calculate Cterm Coverage\n",
    "    \n",
    "    Cterm_tbp_coverage = pd.read_csv(Cterm_bed.fn, sep='\\t')\n",
    "    Cterm_tbp_coverage.columns = ['chrom', 'start', 'stop', 'bp', 'score', 'strand']\n",
    "    Cterm_tbp_coverage = Cterm_tbp_coverage[\"bp\"].sum()\n",
    "    \n",
    "\n",
    "#Determine the bp overlap with tumor bed and cd34 bed\n",
    "\n",
    "    tumor_NvsC_FC = tumor_intervals.intersect(Nterm_bed, wao=True) \n",
    "    tumor_NvsC_FC =  pd.read_csv(tumor_NvsC_FC.fn, sep='\\t')\n",
    "    tumor_NvsC_FC.columns = ['chrom','start', 'stop', 'NCscore', 'NC_target', 'length_target', 'NC_target_2', 'length_target_2', 'chrom2','start2', 'stop2', 'bp', 'score2', 'strand', 'overlap']\n",
    "    tumor_NvsC_FC['peak_size'] = tumor_NvsC_FC['stop'] - tumor_NvsC_FC['start']\n",
    "    tumor_NvsC_FC = tumor_NvsC_FC.groupby(['chrom','start','stop', 'NCscore', 'NC_target', 'length_target', 'peak_size']).agg({'overlap': ['sum']}).reset_index()\n",
    "    tumor_NvsC_FC.columns = ['chrom','start','stop', 'NCscore', 'NC_target', 'length_target', 'peak_size', 'Nterm_sum']\n",
    "    tumor_NvsC_FC['Nterm_signal'] = (tumor_NvsC_FC['Nterm_sum'] * ((1/Nterm_tbp_coverage)*1000000000))+1\n",
    "    tumor_NvsC_FC['Nterm_sum_norm'] = ((tumor_NvsC_FC['Nterm_sum']/tumor_NvsC_FC['peak_size']) * ((1/Nterm_tbp_coverage)*1000000000))+1\n",
    "    tumor_NvsC_FC = BedTool.from_dataframe(tumor_NvsC_FC)\n",
    "    tumor_NvsC_FC = tumor_NvsC_FC.intersect(Cterm_bed, wao=True) \n",
    "    tumor_NvsC_FC =  pd.read_csv(tumor_NvsC_FC.fn, sep='\\t')\n",
    "    tumor_NvsC_FC.columns = ['chrom','start', 'stop', 'NCscore', 'NC_target', 'length_target', 'peak_size', 'Nterm_sum', 'Nterm_signal', 'Nterm_sum_norm', 'chrom2','start2', 'stop2', 'bp', 'score2', 'strand', 'overlap']\n",
    "    tumor_NvsC_FC = tumor_NvsC_FC.groupby(['chrom','start', 'stop', 'NCscore', 'NC_target', 'length_target', 'peak_size', 'Nterm_sum', 'Nterm_signal', 'Nterm_sum_norm']).agg({'overlap': ['sum']}).reset_index()\n",
    "    tumor_NvsC_FC.columns = ['chrom','start', 'stop', 'NCscore', 'NC_target', 'length_target', 'peak_size', 'Nterm_sum', 'Nterm_signal', 'Nterm_sum_norm', 'Cterm_sum']\n",
    "    tumor_NvsC_FC['Cterm_signal'] = (tumor_NvsC_FC['Cterm_sum'] * ((1/Cterm_tbp_coverage)*1000000000))+1\n",
    "    tumor_NvsC_FC['Cterm_sum_norm'] = ((tumor_NvsC_FC['Cterm_sum']/tumor_NvsC_FC['peak_size']) * ((1/Cterm_tbp_coverage)*1000000000))+1\n",
    "    tumor_NvsC_FC['fold_change'] = tumor_NvsC_FC['Nterm_sum_norm']/tumor_NvsC_FC['Cterm_sum_norm']\n",
    "    tumor_NvsC_FC['Both_Target'] = ['Target' if x == 1 else 'Not' for x in (tumor_NvsC_FC['length_target'])]\n",
    "    \n",
    "    output_df = tumor_NvsC_FC\n",
    "    \n",
    "    return output_df"
   ]
  },
  {
   "cell_type": "code",
   "execution_count": null,
   "metadata": {},
   "outputs": [],
   "source": [
    "# Input the KMT2A-N (Nterm_bed) and KMT2A-C (bed2) profiles as bed files \n",
    "# as well as the The KMT2A peak file (peakfile) with the fifth column containing a 1 if the NC_score fell above the threshold set by Gaussian modeling\n",
    "# and the sixth column containing a 1 if the peak size fell above the threshold set by Gaussian modeling\n",
    "\n",
    "Nterm_bed = [\"../../Documents/cutandtag_data/bed_files_for_kmt2a_manuscript/merged_cutnrun_bedfiles/JS_HsEc_Nterm_SEM_2ab_031020.bed\"]\n",
    "bed2 = \"../../Documents/cutandtag_data/bed_files_for_kmt2a_manuscript/merged_cutnrun_bedfiles/JS_HsEc_Cterm_SEM_2ab_031020.bed\"\n",
    "peakfile = \"../../Documents/cutandtag_data/bed_files_for_kmt2a_manuscript/kmt2a_peakcalls_revision/SEM_C1C2N1N2_merged.relaxed.NoverCvalues_210208.bed\"\n",
    "\n",
    "for bed in Nterm_bed:\n",
    "    SEM_kmt2a_NvsC_FC = get_kmt2a_NvsC_FC(bed, bed2, peakfile)"
   ]
  },
  {
   "cell_type": "code",
   "execution_count": null,
   "metadata": {},
   "outputs": [],
   "source": [
    "# Input the KMT2A-N (Nterm_bed) and KMT2A-C (bed2) profiles as bed files \n",
    "# as well as the The KMT2A peak file (peakfile) with the fifth column containing a 1 if the NC_score fell above the threshold set by Gaussian modeling\n",
    "\n",
    "Nterm_bed = [\"../../Documents/cutandtag_data/bed_files_for_kmt2a_manuscript/merged_cutnrun_bedfiles/JS_Hs_Nterm_ML2_2ab.bed\"]\n",
    "bed2 = \"../../Documents/cutandtag_data/bed_files_for_kmt2a_manuscript/merged_cutnrun_bedfiles/JS_Hs_Cterm_ML2_2ab.bed\"\n",
    "peakfile = \"../../Documents/cutandtag_data/bed_files_for_kmt2a_manuscript/kmt2a_peakcalls_revision/ML2_CcombNcomb_merged.relaxed.NoverCvalues_210210.bed\"\n",
    "\n",
    "for bed in Nterm_bed:\n",
    "    ML2_kmt2a_NvsC_FC = get_kmt2a_NvsC_FC_ML2(bed, bed2, peakfile)"
   ]
  },
  {
   "cell_type": "code",
   "execution_count": null,
   "metadata": {},
   "outputs": [],
   "source": [
    "# Input the KMT2A-N (Nterm_bed) and KMT2A-C (bed2) profiles as bed files \n",
    "# as well as the The KMT2A peak file (peakfile) with the sixth column containing a 1 if the peak size fell above the threshold set by Gaussian modeling\n",
    "Nterm_bed = [\"../../Documents/cutandtag_data/bed_files_for_kmt2a_manuscript/merged_cutnrun_bedfiles/DJ_Hs_Nterm_CD34_2ab.bed\"]\n",
    "bed2 = \"../../Documents/cutandtag_data/bed_files_for_kmt2a_manuscript/merged_cutnrun_bedfiles/DJ_Hs_Cterm_CD34_2ab.bed\"\n",
    "peakfile = \"../../Documents/cutandtag_data/bed_files_for_kmt2a_manuscript/kmt2a_peakcalls_revision/CD34_C1C2N1N2_merged.relaxed.NoverCvalues_210208.bed\"\n",
    "\n",
    "for bed in Nterm_bed:\n",
    "    CD34_kmt2a_NvsC_FC = get_kmt2a_NvsC_FC_CD34(bed, bed2, peakfile)"
   ]
  },
  {
   "cell_type": "code",
   "execution_count": null,
   "metadata": {},
   "outputs": [],
   "source": [
    "# Add a column corresponding to the sample name and concatenate the output files\n",
    "CD34_kmt2a_NvsC_FC['sample'] = 'CD34'\n",
    "K562_kmt2a_NvsC_FC['sample'] = 'K562'\n",
    "ML2_kmt2a_NvsC_FC['sample'] = 'ML2'\n",
    "SEM_kmt2a_NvsC_FC['sample'] = 'SEM'\n",
    "RS411_kmt2a_NvsC_FC['sample'] = 'RS411'\n",
    "KOPN8_kmt2a_NvsC_FC['sample'] = 'KOPN8'\n",
    "TB13_kmt2a_NvsC_FC['sample'] = 'TB13'\n",
    "A4_kmt2a_NvsC_FC['sample'] = 'A4'\n",
    "A6_kmt2a_NvsC_FC['sample'] = 'A6'\n",
    "A107_kmt2a_NvsC_FC['sample'] = 'A107'\n",
    "A384_kmt2a_NvsC_FC['sample'] = 'A384'\n",
    "A109_kmt2a_NvsC_FC['sample'] = 'A109'\n",
    "A5_kmt2a_NvsC_FC['sample'] = 'A5'\n",
    "TB11_kmt2a_NvsC_FC['sample'] = 'TB11'\n",
    "\n",
    "ALL_KMT2A_NvsC_FC = pd.concat((CD34_kmt2a_NvsC_FC, K562_kmt2a_NvsC_FC, ML2_kmt2a_NvsC_FC, SEM_kmt2a_NvsC_FC, RS411_kmt2a_NvsC_FC, KOPN8_kmt2a_NvsC_FC, TB13_kmt2a_NvsC_FC, A4_kmt2a_NvsC_FC, A6_kmt2a_NvsC_FC, A107_kmt2a_NvsC_FC, A384_kmt2a_NvsC_FC, A109_kmt2a_NvsC_FC, TB11_kmt2a_NvsC_FC, A5_kmt2a_NvsC_FC))"
   ]
  },
  {
   "cell_type": "code",
   "execution_count": null,
   "metadata": {},
   "outputs": [],
   "source": [
    "# Keep columns corresponding to wide peaks in the control samples or oncoprotein targets in the KMT2Ar samples\n",
    "ALL_KMT2A_NvsC_FC_Target = ALL_KMT2A_NvsC_FC[ALL_KMT2A_NvsC_FC['Both_Target'].isin(['Target'])]"
   ]
  },
  {
   "cell_type": "code",
   "execution_count": null,
   "metadata": {},
   "outputs": [],
   "source": [
    "# Generate the Boxplot\n",
    "\n",
    "box_colors = [\"fire engine red\"]\n",
    "plt.figure(figsize=(15,15))\n",
    "ALL_KMT2A_NvsC_FC_Target_boxplot = sns.boxplot(data= ALL_KMT2A_NvsC_FC_Target, x='sample', y='fold_change', palette=(sns.xkcd_palette(box_colors)), linewidth=3, fliersize=0)\n",
    "ALL_KMT2A_NvsC_FC_Target_boxplot.set(yscale=\"log\", ylim=(0, 100))\n",
    "plt.legend(bbox_to_anchor=(1.05, 1), loc=2, borderaxespad=0.)\n",
    "\n",
    "medians = ALL_KMT2A_NvsC_FC_Target.groupby(['sample'])['fold_change'].median()\n",
    "counts = ALL_KMT2A_NvsC_FC_Target.groupby(['sample'])['fold_change'].count()\n",
    "\n",
    "print(medians)\n",
    "print(counts)\n",
    "\n"
   ]
  },
  {
   "cell_type": "markdown",
   "metadata": {},
   "source": [
    "## Boxplot of Histone modifications, as well as ENL and DOT1L signal on KMT2A wildtype vs oncoprotein target intervals (Extended Data Fig. 5a-h, Fig. 4b,c,e, Fig. 5a,d)"
   ]
  },
  {
   "cell_type": "code",
   "execution_count": null,
   "metadata": {},
   "outputs": [],
   "source": [
    "import seaborn as sns\n",
    "from pybedtools import BedTool\n",
    "import numpy as np\n",
    "import pandas as pd\n",
    "import scipy.stats as sts"
   ]
  },
  {
   "cell_type": "code",
   "execution_count": null,
   "metadata": {},
   "outputs": [],
   "source": [
    "def get_dm_kmt2a_target_Coverage(bed, peakfile):\n",
    "    target_bed = BedTool(bed)\n",
    "    kmt2a_intervals = BedTool(peakfile)\n",
    "\n",
    "#Calculate Coverage for the target_bed\n",
    "    \n",
    "    target_tbp_coverage = pd.read_csv(target_bed.fn, sep='\\t')\n",
    "    target_tbp_coverage.columns = ['chrom', 'start', 'stop', 'bp', 'score', 'strand']\n",
    "    target_tbp_coverage = target_tbp_coverage[\"bp\"].sum()\n",
    "\n",
    "#Format the Kmt2a Peak File\n",
    "\n",
    "    kmt2a_intervals_df = pd.read_csv(kmt2a_intervals.fn, sep='\\t')\n",
    "    kmt2a_intervals_df.columns = ['chrom', 'start', 'stop', 'NCscore', 'NC_target', 'length_target', 'NC_target_2', 'length_target_2', ]\n",
    "    kmt2a_intervals_df['peak_size'] = kmt2a_intervals_df['stop'] - kmt2a_intervals_df['start']\n",
    "    kmt2a_intervals_df['Both_Target'] = ['Target' if x == 1 and y == 1 else 'Not' for x,y in zip(kmt2a_intervals_df['NC_target'], kmt2a_intervals_df['length_target'])]\n",
    "    kmt2a_intervals_df['Both_Target_2'] = ['Target' if x == 1 and y == 1 else 'Not' for x,y in zip(kmt2a_intervals_df['NC_target_2'], kmt2a_intervals_df['length_target_2'])]\n",
    "    \n",
    "#sum and normalize the target signal over the Nspecific and NCshared intervals as well as 10kb intervals\n",
    "    #and normalize to coverage\n",
    "\n",
    "    kmt2a_intervals_bed = BedTool.from_dataframe(kmt2a_intervals_df)\n",
    "    target_int_sum = kmt2a_intervals_bed.intersect(target_bed, wao=True) \n",
    "    target_int_sum =  pd.read_csv(target_int_sum.fn, sep='\\t')\n",
    "    target_int_sum.columns = ['chrom','start', 'stop', 'NCscore', 'NC_target', 'length_target', 'NC_target_2', 'length_target_2', 'peak_size', 'Both_Target', 'Both_Target_2', 'chrom2','start2', 'stop2', 'bp', 'score2', 'strand', 'overlap']\n",
    "\n",
    "    target_int_sum = target_int_sum.groupby(['chrom','start','stop', 'NCscore', 'NC_target', 'length_target', 'NC_target_2', 'length_target_2', 'peak_size', 'Both_Target', 'Both_Target_2']).agg({'overlap': ['sum']}).reset_index()\n",
    "    target_int_sum.columns = ['chrom','start','stop', 'NCscore', 'NC_target', 'length_target', 'NC_target_2', 'length_target_2', 'peak_size', 'Both_Target', 'Both_Target_2','target_int_sum']\n",
    "    target_int_sum['target_int_sum_norm'] = ((target_int_sum['target_int_sum']/target_int_sum['peak_size']) * ((1/target_tbp_coverage)*1000000000))+1\n",
    "    output_df = target_int_sum\n",
    "\n",
    "    return output_df"
   ]
  },
  {
   "cell_type": "code",
   "execution_count": null,
   "metadata": {},
   "outputs": [],
   "source": [
    "def get_ctrl_kmt2a_target_Coverage(bed, peakfile):\n",
    "    target_bed = BedTool(bed)\n",
    "    kmt2a_intervals = BedTool(peakfile)\n",
    "\n",
    "#Calculate Coverage for the target_bed\n",
    "    \n",
    "    target_tbp_coverage = pd.read_csv(target_bed.fn, sep='\\t')\n",
    "    target_tbp_coverage.columns = ['chrom', 'start', 'stop', 'bp', 'score', 'strand']\n",
    "    target_tbp_coverage = target_tbp_coverage[\"bp\"].sum()\n",
    "\n",
    "#Format the Kmt2a Peak File\n",
    "\n",
    "    kmt2a_intervals_df = pd.read_csv(kmt2a_intervals.fn, sep='\\t')\n",
    "    kmt2a_intervals_df.columns = ['chrom', 'start', 'stop', 'NCscore', 'NC_target', 'length_target', 'NC_target_2', 'length_target_2', ]\n",
    "    kmt2a_intervals_df['peak_size'] = kmt2a_intervals_df['stop'] - kmt2a_intervals_df['start']\n",
    "    kmt2a_intervals_df['Both_Target'] = ['Target' if x == 1 else 'Not' for x in kmt2a_intervals_df['length_target']]\n",
    "    kmt2a_intervals_df['Both_Target_2'] = ['Target' if x == 1 and y == 1 else 'Not' for x,y in zip(kmt2a_intervals_df['NC_target_2'], kmt2a_intervals_df['length_target_2'])]\n",
    "    \n",
    "#sum and normalize the target signal over the Nspecific and NCshared intervals as well as 10kb intervals\n",
    "    #and normalize to coverage\n",
    "\n",
    "    kmt2a_intervals_bed = BedTool.from_dataframe(kmt2a_intervals_df)\n",
    "    target_int_sum = kmt2a_intervals_bed.intersect(target_bed, wao=True) \n",
    "    target_int_sum =  pd.read_csv(target_int_sum.fn, sep='\\t')\n",
    "    target_int_sum.columns = ['chrom','start', 'stop', 'NCscore', 'NC_target', 'length_target', 'NC_target_2', 'length_target_2', 'peak_size', 'Both_Target', 'Both_Target_2', 'chrom2','start2', 'stop2', 'bp', 'score2', 'strand', 'overlap']\n",
    "\n",
    "    target_int_sum = target_int_sum.groupby(['chrom','start','stop', 'NCscore', 'NC_target', 'length_target', 'NC_target_2', 'length_target_2', 'peak_size', 'Both_Target', 'Both_Target_2']).agg({'overlap': ['sum']}).reset_index()\n",
    "    target_int_sum.columns = ['chrom','start','stop', 'NCscore', 'NC_target', 'length_target', 'NC_target_2', 'length_target_2', 'peak_size', 'Both_Target', 'Both_Target_2','target_int_sum']\n",
    "    target_int_sum['target_int_sum_norm'] = ((target_int_sum['target_int_sum']/target_int_sum['peak_size']) * ((1/target_tbp_coverage)*1000000000))+1\n",
    "    output_df = target_int_sum\n",
    "\n",
    "    return output_df"
   ]
  },
  {
   "cell_type": "code",
   "execution_count": null,
   "metadata": {},
   "outputs": [],
   "source": [
    "# Input the Histone Mark, Dot1L or ENL (target_bed) profiles as bed files \n",
    "# as well as the The KMT2A peak file (kmt2a_intervals) with the sixth column containing a 1 if the peak size fell above the threshold set by Gaussian modeling\n",
    "target_bed = [\"../../Documents/cutandtag_data/bed_files_for_kmt2a_manuscript/merged_cutntag_bedfiles/DJ_Hs_Pol2S5_CD34_2r.bed\"]\n",
    "kmt2a_intervals = \"../../Documents/cutandtag_data/bed_files_for_kmt2a_manuscript/kmt2a_peakcalls_revision/CD34_C1C2N1N2_merged.relaxed.NoverCvalues_210208.bed\"\n",
    "\n",
    "\n",
    "for bed in target_bed:\n",
    "    CD34_Pol2S5 = get_ctrl_kmt2a_target_Coverage(bed, kmt2a_intervals)"
   ]
  },
  {
   "cell_type": "code",
   "execution_count": null,
   "metadata": {},
   "outputs": [],
   "source": [
    "# Input the Histone Mark, Dot1L or ENL (target_bed) profiles as bed files \n",
    "# as well as the The KMT2A peak file (kmt2a_intervals) with the fifth column containing a 1 if the NC_score fell above the threshold set by Gaussian modeling\n",
    "# and the sixth column containing a 1 if the peak size fell above the threshold set by Gaussian modeling\n",
    "\n",
    "target_bed = [\"../../Documents/cutandtag_data/bed_files_for_kmt2a_manuscript/merged_cutntag_bedfiles/DJ_Hs_Pol2S5_SE_3r.bed\"]\n",
    "kmt2a_intervals = \"../../Documents/cutandtag_data/bed_files_for_kmt2a_manuscript/kmt2a_peakcalls_revision/SEM_C1C2N1N2_merged.relaxed.NoverCvalues_210208.bed\"\n",
    "\n",
    "\n",
    "for bed in target_bed:\n",
    "    SEM_Pol2S5 = get_dm_kmt2a_target_Coverage(bed, kmt2a_intervals)"
   ]
  },
  {
   "cell_type": "code",
   "execution_count": null,
   "metadata": {},
   "outputs": [],
   "source": [
    "# Add a column corresponding to the sample name and concatenate the output files\n",
    "CD34_Pol2S5['sample'] = 'CD34_Pol2S5'\n",
    "A4_Pol2S5['sample'] = 'A4_Pol2S5'\n",
    "A5_Pol2S5['sample'] = 'A5_Pol2S5'\n",
    "A6_Pol2S5['sample'] = 'A6_Pol2S5'\n",
    "TB11_Pol2S5['sample'] = 'TB11_Pol2S5'\n",
    "TB13_Pol2S5['sample'] = 'TB13_Pol2S5'\n",
    "SEM_Pol2S5['sample'] = 'SEM_Pol2S5'\n",
    "RS411_Pol2S5['sample'] = 'RS411_Pol2S5'\n",
    "KOPN8_Pol2S5['sample'] = 'KOPN8_Pol2S5'\n",
    "A107_Pol2S5['sample'] = 'A107_Pol2S5'\n",
    "A109_Pol2S5['sample'] = 'A109_Pol2S5'\n",
    "A384_Pol2S5['sample'] = 'A384_Pol2S5'\n",
    "\n",
    "ALL_Pol2S5 = pd.concat((CD34_Pol2S5, SEM_Pol2S5,  RS411_Pol2S5, KOPN8_Pol2S5, TB13_Pol2S5, A4_Pol2S5, A6_Pol2S5, A107_Pol2S5, A384_Pol2S5, A109_Pol2S5, TB11_Pol2S5,  A5_Pol2S5))"
   ]
  },
  {
   "cell_type": "code",
   "execution_count": null,
   "metadata": {},
   "outputs": [],
   "source": [
    "# Generate the Boxplot\n",
    "box_colors = [\"grey\", \"purple\", \"deep sky blue\", \"fire engine red\", \"deep sky blue\", \"fire engine red\", \"deep sky blue\", \"fire engine red\", \"deep sky blue\", \"fire engine red\", \"deep sky blue\", \"fire engine red\", \"deep sky blue\", \"fire engine red\", \"deep sky blue\", \"fire engine red\"]\n",
    "plt.figure(figsize=(15,15))\n",
    "Pol2S5_int_boxplot = sns.boxplot(data=ALL_Pol2S5, x='sample', hue=\"Both_Target\", y='target_int_sum_norm', palette=(sns.xkcd_palette(box_colors)), linewidth=3, fliersize=0)\n",
    "Pol2S5_int_boxplot.set(yscale=\"log\", ylim=(0.9, 100))\n",
    "plt.legend(bbox_to_anchor=(1.05, 1), loc=2, borderaxespad=0.)\n",
    "\n",
    "medians = ALL_Pol2S5.groupby(['sample','Both_Target'])['target_int_sum_norm'].median()\n",
    "print(medians)\n",
    "\n",
    "for sample in ALL_Pol2S5['sample'].unique():\n",
    "    ls = list()\n",
    "    for targ in ALL_Pol2S5['Both_Target'].unique():\n",
    "        cat_tmp = ALL_Pol2S5.loc[(ALL_Pol2S5['Both_Target'] == targ) & (ALL_Pol2S5['sample'] == sample)]\n",
    "        ls.append(cat_tmp)\n",
    "    print(sample, targ)\n",
    "    print(ttest_ind(ls[0]['target_int_sum_norm'], ls[1]['target_int_sum_norm']))"
   ]
  },
  {
   "cell_type": "markdown",
   "metadata": {},
   "source": [
    "## Clustermap of H3K4me3 signal over promoters of immunophenotyic marker genes (Fig. 2b)"
   ]
  },
  {
   "cell_type": "code",
   "execution_count": null,
   "metadata": {},
   "outputs": [],
   "source": [
    "import numpy as np\n",
    "import pandas as pd\n",
    "from pybedtools import BedTool\n",
    "import seaborn as sns"
   ]
  },
  {
   "cell_type": "code",
   "execution_count": null,
   "metadata": {},
   "outputs": [],
   "source": [
    "#import hg19 gene list and select essential columns\n",
    "hg19_gene_list = pd.read_csv(\"../../Documents/hg19_ucscgenes.dms\", sep=\"\\t\", skiprows=[0], header=None)\n",
    "hg19_gene_list.columns = [\"bin\",\"name\",\"chrom\",\"strand\",\"txStart\",\"txEnd\",\"cdsStart\",\"cdsEnd\",\"exonCount\",\"exonStarts\",\"exonEnds\",\"score\",\"name2\",\"cdsStartStat\",\"cdsEndStat\",\"exonFrames\"]\n",
    "hg19_gene_min = hg19_gene_list.iloc[:,[12, 2, 3, 4, 5]]\n",
    "\n",
    "#Select immunophenotypic marker genes\n",
    "immunophenotype_gene_min = hg19_gene_min[hg19_gene_min['name2'].isin(['NASP', 'PTPRC', 'CD3E', 'ITGAX', 'LYZ', 'FCGR1A', 'CD14', 'ENO2', 'MPO', 'CD33', 'MME', 'CD22', 'CD79A', 'CD19'])]\n",
    "\n",
    "#Specify the promoter intervals\n",
    "immunophenotype_gene_plus = immunophenotype_gene_min[immunophenotype_gene_min.strand == '+']\n",
    "immunophenotype_gene_plus_tss = immunophenotype_gene_plus[immunophenotype_gene_plus['txStart'].isin(['46049659', '198608097', '149754249', '154797799','118175444','7023743','69742160','28943291','31366496','35820089','42381348','51728335'])].drop_duplicates('txStart').iloc[:,[0, 1, 2, 3]]\n",
    "immunophenotype_gene_plus_tss.columns = ['name2', 'chrom', 'strand', 'tss']\n",
    "immunophenotype_gene_plus_tss['tss-1000'] = immunophenotype_gene_plus_tss['tss']-1000\n",
    "immunophenotype_gene_plus_tss['tss+1000'] = immunophenotype_gene_plus_tss['tss']+1000\n",
    "immunophenotype_gene_plus_tss = immunophenotype_gene_plus_tss.iloc[:,[1, 4, 5, 0]]\n",
    "immunophenotype_gene_minus = immunophenotype_gene_min[immunophenotype_gene_min.strand == '-']\n",
    "immunophenotype_gene_minus = immunophenotype_gene_minus[immunophenotype_gene_minus['txEnd'].isin(['140012760', '56358296'])].drop_duplicates('txStart').iloc[:,[0, 1, 2, 4]]\n",
    "immunophenotype_gene_minus.columns = ['name2', 'chrom', 'strand', 'tss']\n",
    "immunophenotype_gene_minus['tss-1000'] = immunophenotype_gene_minus['tss']-1000\n",
    "immunophenotype_gene_minus['tss+1000'] = immunophenotype_gene_minus['tss']+1000\n",
    "immunophenotype_gene_minus = immunophenotype_gene_minus.iloc[:,[1, 4, 5, 0]]\n",
    "immunophenotype_tss_intervals = pd.concat([immunophenotype_gene_plus_tss, immunophenotype_gene_minus], axis=0)\n",
    "#Convert immunophenotypic marker gene promoter intervals to bedfile\n",
    "immunophenotype_tss_intervals_bed = BedTool.from_dataframe(immunophenotype_tss_intervals)\n",
    "immunophenotype_tss_intervals_bed = BedTool.sort(immunophenotype_tss_intervals_bed)\n"
   ]
  },
  {
   "cell_type": "code",
   "execution_count": null,
   "metadata": {},
   "outputs": [],
   "source": [
    "#Writing the Function to calculate the coverage normalized H3K4me3 signal over promtoer intervals\n",
    "def getCoverage_immuno(bed):\n",
    "    target_bed = BedTool(bed) \n",
    "\n",
    "    #Identify the coverage factor\n",
    "    tbp_coverage = pd.read_csv(target_bed.fn, sep='\\t')\n",
    "    tbp_coverage.columns = ['chrom', 'start', 'stop', 'bp', 'score', 'strand']\n",
    "    tbp_coverage = tbp_coverage[\"bp\"].sum()\n",
    "\n",
    "    #Sum the target bed over the immunophenotype TSS intervals and normalize to coverage\n",
    "\n",
    "    K4me3_immunoTSS = immunophenotype_tss_intervals_bed.intersect(target_bed, wao=True)\n",
    "\n",
    "    K4me3_immunoTSS = pd.read_csv(K4me3_immunoTSS.fn, sep='\\t')\n",
    "    K4me3_immunoTSS.columns = ['chrom', 'start', 'stop', 'name2', 'chrom2', 'start2', 'stop2','bp', 'score', 'strand', 'overlap']\n",
    "    K4me3_immunoTSS = K4me3_immunoTSS.groupby(['chrom','start','stop','name2']).agg({'overlap': ['sum']}).reset_index()\n",
    "    K4me3_immunoTSS.columns = ['chrom','start','stop','name2','sum']\n",
    "    K4me3_immunoTSS['sum_norm'] = ((K4me3_immunoTSS['sum'] * ((1/tbp_coverage)*1000000000))+1)\n",
    "    K4me3_immunoTSS = K4me3_immunoTSS.iloc[: , [3,5]]\n",
    "\n",
    "    return K4me3_immunoTSS"
   ]
  },
  {
   "cell_type": "code",
   "execution_count": null,
   "metadata": {},
   "outputs": [],
   "source": [
    "# path to antibody target to score\n",
    "sample = [\"../../Documents/cutandtag_data/bed_files_for_kmt2a_manuscript/merged_cutntag_bedfiles/DJ_Hs_K4m3_SE_2r.bed\"]\n",
    "\n",
    "for bed in sample:\n",
    "    SEM_K4me3_immunoTSS = getCoverage_immuno(bed)"
   ]
  },
  {
   "cell_type": "code",
   "execution_count": null,
   "metadata": {},
   "outputs": [],
   "source": [
    "# concatenate the coverage files from all samples and then plot the cluster map\n",
    "Master_K4me3_immunoTSS = pd.concat([SEM_K4me3_immunoTSS, RS411_K4me3_immunoTSS, KOPN8_K4me3_immunoTSS, ML2_K4me3_immunoTSS, A4_K4me3_immunoTSS, A5_K4me3_immunoTSS, A6_K4me3_immunoTSS, TB11_K4me3_immunoTSS, TB13_K4me3_immunoTSS, A384_K4me3_immunoTSS, A107_K4me3_immunoTSS, A109_K4me3_immunoTSS, CD34_K4me3_immunoTSS], ignore_index=True, axis=1)\n",
    "Master_K4me3_immunoTSS = Master_K4me3_immunoTSS.iloc[: , [0,1,3,5,7,9,11,13,15,17,19,21,23,25]]\n",
    "Master_K4me3_immunoTSS.columns = ['name2', 'SEM', 'RS411', 'KOPN8', 'ML2', 'A4','A5', 'A6', 'TB11', 'TB13', 'A384', 'A107', 'A109', 'CD34']\n",
    "Master_K4me3_immunoTSS = Master_K4me3_immunoTSS[Master_K4me3_immunoTSS['name2'].isin(['PTPRC', 'CD3E', 'ITGAX', 'LYZ', 'FCGR1A', 'CD14', 'ENO2', 'MPO', 'CD33', 'MME', 'CD22', 'CD79A', 'CD19'])]\n",
    "Master_K4me3_immunoTSS = Master_K4me3_immunoTSS.iloc[[10,7,3,6,12,0,4,5,9,8,11,2,1],:]\n",
    "Master_K4me3_immunoTSS = Master_K4me3_immunoTSS.set_index('name2')\n",
    "\n",
    "sns.clustermap(Master_K4me3_immunoTSS, standard_scale=1, figsize=(13,13), row_cluster=False)\n",
    "\n",
    "\n",
    "print(Master_K4me3_immunoTSS)\n",
    "\n"
   ]
  },
  {
   "cell_type": "markdown",
   "metadata": {},
   "source": [
    "## Quantifying the fraction of VTP50469 sensitive H3K4me3 peaks that fall on the TSS vs Gene Body  (Fig. 5e)"
   ]
  },
  {
   "cell_type": "code",
   "execution_count": null,
   "metadata": {},
   "outputs": [],
   "source": [
    "from pybedtools import BedTool\n",
    "import pandas as pd\n"
   ]
  },
  {
   "cell_type": "code",
   "execution_count": null,
   "metadata": {},
   "outputs": [],
   "source": [
    "# import results of DESeq analysis comparing H3K4me3 signal in DMSO vs. VTP50469 treated cells\n",
    "All_K4m3_peaks_bed = BedTool(\"../../Documents/cutandtag_data/bed_files_for_kmt2a_manuscript/histone_mark_peakcalls_revision/K4m3.regions.bed_counts.bed.normalized.bed\")\n",
    "Menin_response_bed = BedTool(\"../../Documents/cutandtag_data/bed_files_for_kmt2a_manuscript/cell_line_drug_cnt_data/K4m3.regions.bed_counts.bed.normalized.bed.drugtreatment_DESeq2_210222.txt\")\n",
    "\n",
    "All_K4m3_peaks = pd.read_csv(All_K4m3_peaks_bed.fn, sep='\\t')\n",
    "All_K4m3_peaks = All_K4m3_peaks.iloc[:, [0, 1, 2]]\n",
    "All_K4m3_peaks.columns = ['chrom', 'start', 'stop']\n",
    "\n",
    "Menin_response = pd.read_csv(Menin_response_bed.fn, sep='\\t')\n",
    "All_K4m3_Menin_response = pd.concat([All_K4m3_peaks, Menin_response], axis=1)\n",
    "\n",
    "KOPN8_K4m3_Menin_response = All_K4m3_Menin_response.iloc[:, [0, 1, 2, 7, 8]]\n",
    "RS411_K4m3_Menin_response = All_K4m3_Menin_response.iloc[:, [0, 1, 2, 19, 20]]\n",
    "SEM_K4m3_Menin_response = All_K4m3_Menin_response.iloc[:, [0, 1, 2, 13, 14]]\n",
    "\n",
    "# These bed files include columns coresponding to the Cell type specific H3K4me3 peaks with columns:\n",
    "# Chrom; start; stop; log fold change; adjusted p-values"
   ]
  },
  {
   "cell_type": "code",
   "execution_count": null,
   "metadata": {},
   "outputs": [],
   "source": [
    "# Select the peaks that show a significant loss of H3K4me3 in reponse to VTP50469 treatment\n",
    "KOPN8_K4m3_Menin_response['Hot1'] = ['Hot' if x < -1 else 'Not' for x in KOPN8_K4m3_Menin_response['KO_VTP_LFC']]\n",
    "KOPN8_K4m3_Menin_response['Hot2'] = ['Hot' if x < 0.01 else 'Not' for x in KOPN8_K4m3_Menin_response['KO_VTP_padj']]\n",
    "\n",
    "KOPN8_K4m3_Menin_change = KOPN8_K4m3_Menin_response[KOPN8_K4m3_Menin_response['Hot1'].isin(['Hot'])] \n",
    "KOPN8_K4m3_Menin_change = KOPN8_K4m3_Menin_change[KOPN8_K4m3_Menin_change['Hot2'].isin(['Hot'])] \n",
    "\n",
    "SEM_K4m3_Menin_response['Hot1'] = ['Hot' if x < -1 else 'Not' for x in SEM_K4m3_Menin_response['SE_VTP_LFC']]\n",
    "SEM_K4m3_Menin_response['Hot2'] = ['Hot' if x < 0.01 else 'Not' for x in SEM_K4m3_Menin_response['SE_VTP_padj']]\n",
    "\n",
    "SEM_K4m3_Menin_change = SEM_K4m3_Menin_response[SEM_K4m3_Menin_response['Hot1'].isin(['Hot'])] \n",
    "SEM_K4m3_Menin_change = SEM_K4m3_Menin_change[SEM_K4m3_Menin_change['Hot2'].isin(['Hot'])] \n",
    "\n",
    "RS411_K4m3_Menin_response['Hot1'] = ['Hot' if x < -1 else 'Not' for x in RS411_K4m3_Menin_response['RS_VTP_LFC']]\n",
    "RS411_K4m3_Menin_response['Hot2'] = ['Hot' if x < 0.01 else 'Not' for x in RS411_K4m3_Menin_response['RS_VTP_padj']]\n",
    "\n",
    "RS411_K4m3_Menin_change = RS411_K4m3_Menin_response[RS411_K4m3_Menin_response['Hot1'].isin(['Hot'])] \n",
    "RS411_K4m3_Menin_change = RS411_K4m3_Menin_change[RS411_K4m3_Menin_change['Hot2'].isin(['Hot'])] \n",
    "\n",
    "SEM_K4m3_Menin_change['start']= SEM_K4m3_Menin_change['start'].astype(int)\n",
    "SEM_K4m3_Menin_change['stop']= SEM_K4m3_Menin_change['stop'].astype(int)\n",
    "RS411_K4m3_Menin_change['start']= RS411_K4m3_Menin_change['start'].astype(int)\n",
    "RS411_K4m3_Menin_change['stop']= RS411_K4m3_Menin_change['stop'].astype(int)\n",
    "KOPN8_K4m3_Menin_change['start']= KOPN8_K4m3_Menin_change['start'].astype(int)\n",
    "KOPN8_K4m3_Menin_change['stop']= KOPN8_K4m3_Menin_change['stop'].astype(int)\n",
    "\n",
    "SEM_K4m3_Menin_change_bed = BedTool.from_dataframe(SEM_K4m3_Menin_change)\n",
    "RS411_K4m3_Menin_change_bed = BedTool.from_dataframe(RS411_K4m3_Menin_change)\n",
    "KOPN8_K4m3_Menin_change_bed = BedTool.from_dataframe(KOPN8_K4m3_Menin_change)"
   ]
  },
  {
   "cell_type": "code",
   "execution_count": null,
   "metadata": {},
   "outputs": [],
   "source": [
    "# Import peaks called as oncoprotein target sites in each cell line\n",
    "SEM_Master_peaks_bed = BedTool(\"../../Documents/cutandtag_data/bed_files_for_kmt2a_manuscript/kmt2a_peakcalls_revision/SEM_Master_Peaks.bed\")\n",
    "RS411_Master_peaks_bed = BedTool(\"../../Documents/cutandtag_data/bed_files_for_kmt2a_manuscript/kmt2a_peakcalls_revision/RS411_Master_Peaks.bed\")\n",
    "KOPN8_Master_peaks_bed = BedTool(\"../../Documents/cutandtag_data/bed_files_for_kmt2a_manuscript/kmt2a_peakcalls_revision/KOPN8_Master_Peaks.bed\")\n",
    "\n",
    "SEM_Master_peaks = pd.read_csv(SEM_Master_peaks_bed.fn, sep='\\t')\n",
    "RS411_Master_peaks = pd.read_csv(RS411_Master_peaks_bed.fn, sep='\\t')\n",
    "KOPN8_Master_peaks = pd.read_csv(KOPN8_Master_peaks_bed.fn, sep='\\t')\n",
    "\n",
    "SEM_Master_peaks.columns = ['chrom', 'start', 'stop', 'class', 'score']\n",
    "RS411_Master_peaks.columns = ['chrom', 'start', 'stop', 'class', 'score']\n",
    "KOPN8_Master_peaks.columns = ['chrom', 'start', 'stop', 'class', 'score']\n",
    "\n",
    "SEM_Target_peaks = SEM_Master_peaks[SEM_Master_peaks['class'].isin(['1'])]\n",
    "RS411_Target_peaks = RS411_Master_peaks[RS411_Master_peaks['class'].isin(['1'])]\n",
    "KOPN8_Target_peaks = KOPN8_Master_peaks[KOPN8_Master_peaks['class'].isin(['1'])]\n",
    "\n",
    "SEM_Target_peaks_bed = BedTool.from_dataframe(SEM_Target_peaks)\n",
    "RS411_Target_peaks_bed = BedTool.from_dataframe(RS411_Target_peaks)\n",
    "KOPN8_Target_peaks_bed = BedTool.from_dataframe(KOPN8_Target_peaks)\n"
   ]
  },
  {
   "cell_type": "code",
   "execution_count": null,
   "metadata": {},
   "outputs": [],
   "source": [
    "# Import list of hg19 TSSs\n",
    "hg19_tss = BedTool(\"../../Documents/cutandtag_data/bed_files_for_kmt2a_manuscript/hg19_ncbiRefSeq.tss\")"
   ]
  },
  {
   "cell_type": "code",
   "execution_count": null,
   "metadata": {},
   "outputs": [],
   "source": [
    "# Import hg19 intervals corresponding to Oncoprotein Target genes \n",
    "\n",
    "hg19_gene_list = pd.read_csv(\"../../Documents/hg19_ucscgenes.dms\", sep=\"\\t\", skiprows=[0], header=None)\n",
    "hg19_gene_list.columns = [\"bin\",\"name\",\"chrom\",\"strand\",\"txStart\",\"txEnd\",\"cdsStart\",\"cdsEnd\",\"exonCount\",\"exonStarts\",\"exonEnds\",\"score\",\"name2\",\"cdsStartStat\",\"cdsEndStat\",\"exonFrames\"]\n",
    "hg19_gene_min = hg19_gene_list.iloc[:,[12, 2, 3, 4, 5]]\n",
    "hg19_gene_min_2 = hg19_gene_min.iloc[:,[1, 3, 4, 0]]\n",
    "hg19_gene_min_2_bed = BedTool.from_dataframe(hg19_gene_min_2)\n",
    "\n",
    "# Identify hg19 intervals corresponding to Oncoprotein Target genes \n",
    "\n",
    "SEM_target_genes = hg19_gene_min_2_bed.intersect(SEM_Target_peaks_bed, u=True)\n",
    "RS411_target_genes = hg19_gene_min_2_bed.intersect(RS411_Target_peaks_bed, u=True)\n",
    "KOPN8_target_genes = hg19_gene_min_2_bed.intersect(KOPN8_Target_peaks_bed, u=True)\n",
    "\n"
   ]
  },
  {
   "cell_type": "code",
   "execution_count": null,
   "metadata": {},
   "outputs": [],
   "source": [
    "# Determine the fraction of VTP50469 peaks that fall in the TSS of oncoprotein target genes \n",
    "RS411_K4m3_Menin_change_TTSS = RS411_K4m3_Menin_change_bed.intersect(RS411_target_genes, u=True).intersect(hg19_tss, u=True)\n",
    "\n",
    "len(RS411_K4m3_Menin_change_TTSS)"
   ]
  },
  {
   "cell_type": "code",
   "execution_count": null,
   "metadata": {},
   "outputs": [],
   "source": [
    "# Determine the fraction of VTP50469 peaks that fall in the Gene Body of oncoprotein target genes \n",
    "RS411_K4m3_Menin_change_TGB = RS411_K4m3_Menin_change_bed.intersect(RS411_target_genes, u=True).intersect(hg19_tss, v=True)\n",
    "\n",
    "len(RS411_K4m3_Menin_change_TGB)"
   ]
  },
  {
   "cell_type": "code",
   "execution_count": null,
   "metadata": {},
   "outputs": [],
   "source": [
    "# Determine the fraction of VTP50469 peaks that fall in the TSS\n",
    "RS411_K4m3_Menin_change_TSS = RS411_K4m3_Menin_change_bed.intersect(hg19_gene_min_2_bed, u=True).intersect(hg19_tss, u=True)\n",
    "\n",
    "len(RS411_K4m3_Menin_change_TSS)"
   ]
  },
  {
   "cell_type": "code",
   "execution_count": null,
   "metadata": {},
   "outputs": [],
   "source": [
    "# Determine the fraction of VTP50469 peaks that fall in the Gene Body\n",
    "RS411_K4m3_Menin_change_GB = RS411_K4m3_Menin_change_bed.intersect(hg19_gene_min_2_bed, u=True).intersect(hg19_tss, v=True)\n",
    "\n",
    "len(RS411_K4m3_Menin_change_GB)"
   ]
  }
 ],
 "metadata": {
  "kernelspec": {
   "display_name": "Python 3",
   "language": "python",
   "name": "python3"
  },
  "language_info": {
   "codemirror_mode": {
    "name": "ipython",
    "version": 3
   },
   "file_extension": ".py",
   "mimetype": "text/x-python",
   "name": "python",
   "nbconvert_exporter": "python",
   "pygments_lexer": "ipython3",
   "version": "3.7.3"
  }
 },
 "nbformat": 4,
 "nbformat_minor": 2
}
